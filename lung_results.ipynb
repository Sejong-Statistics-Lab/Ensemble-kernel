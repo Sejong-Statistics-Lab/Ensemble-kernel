{
 "cells": [
  {
   "cell_type": "code",
   "execution_count": 1,
   "metadata": {},
   "outputs": [],
   "source": [
    "import copy\n",
    "\n",
    "import numpy as np\n",
    "import pandas as pd\n",
    "from itertools import combinations\n",
    "\n",
    "from sklearn.model_selection import KFold\n",
    "from skopt.space import Real\n",
    "\n",
    "import sys\n",
    "sys.path.append('G:/내 드라이브/대학/대외/2023/연구원/연구과제/Ensemble-Kernel')\n",
    "\n",
    "from Kernel_Function_3 import split_data, prepare_response_variable, c_index_kernel_type"
   ]
  },
  {
   "cell_type": "markdown",
   "metadata": {},
   "source": [
    "## Preprocessing"
   ]
  },
  {
   "cell_type": "code",
   "execution_count": 3,
   "metadata": {},
   "outputs": [
    {
     "data": {
      "text/html": [
       "<div>\n",
       "<style scoped>\n",
       "    .dataframe tbody tr th:only-of-type {\n",
       "        vertical-align: middle;\n",
       "    }\n",
       "\n",
       "    .dataframe tbody tr th {\n",
       "        vertical-align: top;\n",
       "    }\n",
       "\n",
       "    .dataframe thead th {\n",
       "        text-align: right;\n",
       "    }\n",
       "</style>\n",
       "<table border=\"1\" class=\"dataframe\">\n",
       "  <thead>\n",
       "    <tr style=\"text-align: right;\">\n",
       "      <th></th>\n",
       "      <th>OS</th>\n",
       "      <th>Status</th>\n",
       "      <th>Age</th>\n",
       "      <th>ph.ecog</th>\n",
       "      <th>ph.karno</th>\n",
       "      <th>pat.karno</th>\n",
       "      <th>meal.cal</th>\n",
       "      <th>wt.loss</th>\n",
       "      <th>Sex</th>\n",
       "    </tr>\n",
       "  </thead>\n",
       "  <tbody>\n",
       "    <tr>\n",
       "      <th>0</th>\n",
       "      <td>306</td>\n",
       "      <td>1</td>\n",
       "      <td>74</td>\n",
       "      <td>1</td>\n",
       "      <td>90</td>\n",
       "      <td>100</td>\n",
       "      <td>1175</td>\n",
       "      <td>37</td>\n",
       "      <td>False</td>\n",
       "    </tr>\n",
       "    <tr>\n",
       "      <th>1</th>\n",
       "      <td>455</td>\n",
       "      <td>1</td>\n",
       "      <td>68</td>\n",
       "      <td>0</td>\n",
       "      <td>90</td>\n",
       "      <td>90</td>\n",
       "      <td>1225</td>\n",
       "      <td>15</td>\n",
       "      <td>False</td>\n",
       "    </tr>\n",
       "    <tr>\n",
       "      <th>2</th>\n",
       "      <td>1010</td>\n",
       "      <td>0</td>\n",
       "      <td>56</td>\n",
       "      <td>0</td>\n",
       "      <td>90</td>\n",
       "      <td>90</td>\n",
       "      <td>1500</td>\n",
       "      <td>15</td>\n",
       "      <td>False</td>\n",
       "    </tr>\n",
       "    <tr>\n",
       "      <th>3</th>\n",
       "      <td>210</td>\n",
       "      <td>1</td>\n",
       "      <td>57</td>\n",
       "      <td>1</td>\n",
       "      <td>90</td>\n",
       "      <td>60</td>\n",
       "      <td>1150</td>\n",
       "      <td>11</td>\n",
       "      <td>False</td>\n",
       "    </tr>\n",
       "    <tr>\n",
       "      <th>4</th>\n",
       "      <td>883</td>\n",
       "      <td>1</td>\n",
       "      <td>60</td>\n",
       "      <td>0</td>\n",
       "      <td>100</td>\n",
       "      <td>90</td>\n",
       "      <td>1025</td>\n",
       "      <td>0</td>\n",
       "      <td>False</td>\n",
       "    </tr>\n",
       "    <tr>\n",
       "      <th>...</th>\n",
       "      <td>...</td>\n",
       "      <td>...</td>\n",
       "      <td>...</td>\n",
       "      <td>...</td>\n",
       "      <td>...</td>\n",
       "      <td>...</td>\n",
       "      <td>...</td>\n",
       "      <td>...</td>\n",
       "      <td>...</td>\n",
       "    </tr>\n",
       "    <tr>\n",
       "      <th>223</th>\n",
       "      <td>188</td>\n",
       "      <td>0</td>\n",
       "      <td>77</td>\n",
       "      <td>1</td>\n",
       "      <td>80</td>\n",
       "      <td>60</td>\n",
       "      <td>1225</td>\n",
       "      <td>3</td>\n",
       "      <td>False</td>\n",
       "    </tr>\n",
       "    <tr>\n",
       "      <th>224</th>\n",
       "      <td>191</td>\n",
       "      <td>0</td>\n",
       "      <td>39</td>\n",
       "      <td>0</td>\n",
       "      <td>90</td>\n",
       "      <td>90</td>\n",
       "      <td>2350</td>\n",
       "      <td>-5</td>\n",
       "      <td>False</td>\n",
       "    </tr>\n",
       "    <tr>\n",
       "      <th>225</th>\n",
       "      <td>105</td>\n",
       "      <td>0</td>\n",
       "      <td>75</td>\n",
       "      <td>2</td>\n",
       "      <td>60</td>\n",
       "      <td>70</td>\n",
       "      <td>1025</td>\n",
       "      <td>5</td>\n",
       "      <td>True</td>\n",
       "    </tr>\n",
       "    <tr>\n",
       "      <th>226</th>\n",
       "      <td>174</td>\n",
       "      <td>0</td>\n",
       "      <td>66</td>\n",
       "      <td>1</td>\n",
       "      <td>90</td>\n",
       "      <td>100</td>\n",
       "      <td>1075</td>\n",
       "      <td>1</td>\n",
       "      <td>False</td>\n",
       "    </tr>\n",
       "    <tr>\n",
       "      <th>227</th>\n",
       "      <td>177</td>\n",
       "      <td>0</td>\n",
       "      <td>58</td>\n",
       "      <td>1</td>\n",
       "      <td>80</td>\n",
       "      <td>90</td>\n",
       "      <td>1060</td>\n",
       "      <td>0</td>\n",
       "      <td>True</td>\n",
       "    </tr>\n",
       "  </tbody>\n",
       "</table>\n",
       "<p>228 rows × 9 columns</p>\n",
       "</div>"
      ],
      "text/plain": [
       "       OS  Status  Age  ph.ecog  ph.karno  pat.karno  meal.cal  wt.loss    Sex\n",
       "0     306       1   74        1        90        100      1175       37  False\n",
       "1     455       1   68        0        90         90      1225       15  False\n",
       "2    1010       0   56        0        90         90      1500       15  False\n",
       "3     210       1   57        1        90         60      1150       11  False\n",
       "4     883       1   60        0       100         90      1025        0  False\n",
       "..    ...     ...  ...      ...       ...        ...       ...      ...    ...\n",
       "223   188       0   77        1        80         60      1225        3  False\n",
       "224   191       0   39        0        90         90      2350       -5  False\n",
       "225   105       0   75        2        60         70      1025        5   True\n",
       "226   174       0   66        1        90        100      1075        1  False\n",
       "227   177       0   58        1        80         90      1060        0   True\n",
       "\n",
       "[228 rows x 9 columns]"
      ]
     },
     "execution_count": 3,
     "metadata": {},
     "output_type": "execute_result"
    }
   ],
   "source": [
    "data = pd.read_csv(\"lung(mice).csv\")\n",
    "\n",
    "df = copy.deepcopy(data)\n",
    "\n",
    "column_mapping = {'age' : 'Age',\n",
    "                  'sex' : 'Sex',\n",
    "                  'time' : 'OS',\n",
    "                  'status' : 'Status'}\n",
    "df_rename = df.rename(columns = column_mapping)\n",
    "\n",
    "df_drop = df_rename.drop(['Unnamed: 0','inst'], axis=1).dropna()\n",
    "\n",
    "df_drop = df_drop.astype({'Sex' : 'category'})\n",
    "\n",
    "# onehot encode\n",
    "df_onehot = pd.get_dummies(df_drop, drop_first=True)\n",
    "\n",
    "df_onehot= df_onehot.astype({'Sex_2' : 'category'})\n",
    "\n",
    "df_onehot = df_onehot.rename(columns = {'Sex_2' : 'Sex'})\n",
    "\n",
    "df_onehot"
   ]
  },
  {
   "cell_type": "markdown",
   "metadata": {},
   "source": [
    "Kfold settion"
   ]
  },
  {
   "cell_type": "code",
   "execution_count": 22,
   "metadata": {},
   "outputs": [],
   "source": [
    "cv = KFold(n_splits=5, shuffle=True, random_state=36)\n",
    "\n",
    "param_grid = {'alpha': 2. ** np.arange(-12, 13, 2)}\n",
    "param_space = {'alpha': Real(1e-6, 1e+6, 'log-uniform'),}"
   ]
  },
  {
   "cell_type": "markdown",
   "metadata": {},
   "source": [
    "Selecting 100 random state numbers"
   ]
  },
  {
   "cell_type": "code",
   "execution_count": 23,
   "metadata": {},
   "outputs": [],
   "source": [
    "import random\n",
    "\n",
    "with open(\"random_state_100.txt\", \"r\") as file:\n",
    "    random_state=file.read()\n",
    "    \n",
    "random_state=random_state.split(\"\\n\")\n",
    "random_state=[int(x) for x in random_state if x]"
   ]
  },
  {
   "cell_type": "markdown",
   "metadata": {},
   "source": [
    "## Scenario 2"
   ]
  },
  {
   "cell_type": "code",
   "execution_count": 24,
   "metadata": {},
   "outputs": [],
   "source": [
    "# Remaining variable results from 100 runs\n",
    "cox_remaining_variable=pd.DataFrame()\n",
    "\n",
    "cox_remaining_variable['variable']=[]"
   ]
  },
  {
   "cell_type": "code",
   "execution_count": null,
   "metadata": {},
   "outputs": [],
   "source": [
    "for i in range(100):\n",
    "    x_train, x_test, target_train, target_test = split_data(df_onehot, randomState = random_state[i])\n",
    "\n",
    "    y_train = prepare_response_variable(target_train)\n",
    "    y_test = prepare_response_variable(target_test)\n",
    "\n",
    "    # Separating OS and Status\n",
    "    drop = x_train[['Age','Sex','OS','Status']]\n",
    "    x_train_drop = x_train.drop(columns=['Age','Sex','OS','Status'])\n",
    "\n",
    "    # Save column names of a DataFrame into a list\n",
    "    columns = x_train_drop.columns\n",
    "\n",
    "    column_groups = []\n",
    "\n",
    "    for i in range(len(columns)):\n",
    "        # Generate all combinations of columns taken i+1 at a time\n",
    "        all_column_combinations = list(combinations(columns, i+1))\n",
    "\n",
    "        # Create a DataFrame for each combination\n",
    "        for column_combination in all_column_combinations:\n",
    "            selected_columns = list(column_combination)\n",
    "            sub_train1 = x_train_drop[selected_columns]\n",
    "            sub_train2 = pd.concat([sub_train1, drop], axis=1)\n",
    "            column_groups.append(sub_train2)\n",
    "    \n",
    "    num_groups = 3\n",
    "    best_cindex = []\n",
    "\n",
    "    for i in range(len(column_groups)):\n",
    "        x_groups = []\n",
    "        train = column_groups[i].sample(frac=1).reset_index(drop=True)\n",
    "\n",
    "        # Splitting the train data into groups\n",
    "        for i in range(num_groups):\n",
    "            censored = train[train['Status'] == 0]  # Extract rows with a value of 0\n",
    "            uncensored = train[train['Status'] == 1]  # Extract rows with a value of 1\n",
    "\n",
    "            group_size1 = len(censored) // num_groups\n",
    "            group_size2 = len(uncensored) // num_groups\n",
    "\n",
    "            if i < num_groups - 1:\n",
    "                # Adjusting the censoring ratio\n",
    "                group1 = censored.iloc[i * group_size1:(i + 1) * group_size1]\n",
    "                group2 = uncensored.iloc[i * group_size2:(i + 1) * group_size2]\n",
    "\n",
    "                group = pd.concat([group1, group2], ignore_index=True)\n",
    "            else:\n",
    "                group1 = censored.iloc[i * group_size1:]\n",
    "                group2 = uncensored.iloc[i * group_size2:]\n",
    "\n",
    "                group = pd.concat([group1, group2], ignore_index=True)\n",
    "    \n",
    "            x_groups.append(group)\n",
    "\n",
    "        cindex = []\n",
    "\n",
    "        for i in range(len(x_groups)):\n",
    "\n",
    "            temp = []\n",
    "            for j in range(len(x_groups)):\n",
    "                if i != j:\n",
    "                    temp.append(x_groups[j])\n",
    "            #train = train data(One out of the equally divided segments, excluding one)\n",
    "            train=pd.concat(temp)\n",
    "\n",
    "            #validation = validation data(One of the equally divided segments)\n",
    "            validation = x_groups[i]\n",
    "            \n",
    "            train_target=train[['Status','OS']]\n",
    "            test_target=validation[['Status','OS']]\n",
    "\n",
    "            train_y=prepare_response_variable(train_target)\n",
    "            test_y=prepare_response_variable(test_target)\n",
    "            #Define data -> train, train_y, validation,  test_y\n",
    "\n",
    "            result = c_index_kernel_type(train, train_y, validation, test_y, param_grid, param_space, cv, keywords = ['Age', 'Sex'], type = 'ensemble_cox')\n",
    "            cindex.append(result[1])\n",
    "\n",
    "        #best_cindex: Store all validation c-index values for each selected variable as a list\n",
    "        best_cindex.append(np.mean(cindex))\n",
    "\n",
    "    #max_num: Index number of the best c-index in the list\n",
    "    max_num = best_cindex.index(max(best_cindex))\n",
    "\n",
    "    #train_column: Selected variables for the best c-index\n",
    "    train_column = column_groups[max_num].columns\n",
    "    \n",
    "    cox_remaining_variable = cox_remaining_variable.append({\"variable\": list(train_column)}, ignore_index = True)\n",
    "\n",
    "cox_remaining_variable.to_csv(\"lung_cox_remaining_variables.csv\", index = False, encoding = 'cp949')"
   ]
  },
  {
   "cell_type": "markdown",
   "metadata": {},
   "source": [
    "### Check results by Kernel type"
   ]
  },
  {
   "cell_type": "markdown",
   "metadata": {},
   "source": [
    "Linear Kernel"
   ]
  },
  {
   "cell_type": "code",
   "execution_count": 27,
   "metadata": {},
   "outputs": [],
   "source": [
    "linear_results=pd.DataFrame()\n",
    "\n",
    "linear_results['train_C_index']=[]\n",
    "linear_results['test_C_index']=[]"
   ]
  },
  {
   "cell_type": "code",
   "execution_count": null,
   "metadata": {},
   "outputs": [],
   "source": [
    "kernel_type = 'linear'\n",
    "\n",
    "for i in range(100):\n",
    "    #variables = remaining_variable[i]\n",
    "    variables = eval(pd.read_csv(\"lung_cox_remaining_variables.csv\")['variable'][i])\n",
    "\n",
    "    df_onehot_re = df_onehot[variables]\n",
    "    \n",
    "    x_train, x_test, target_train, target_test = split_data(df_onehot_re, randomState = random_state[i])\n",
    "\n",
    "    y_train = prepare_response_variable(target_train)\n",
    "    y_test = prepare_response_variable(target_test)\n",
    "\n",
    "    results = c_index_kernel_type(x_train, y_train, x_test, y_test, param_grid, param_space, cv, keywords = ['Age', 'Sex'], type = kernel_type)\n",
    "    \n",
    "    linear_results = linear_results.append({\"train_C_index\":results[0],\"test_C_index\":results[1]}, ignore_index=True)\n",
    "\n",
    "linear_results.to_csv(\"lung_cox_linear.csv\", index = False, encoding = 'cp949')\n"
   ]
  },
  {
   "cell_type": "markdown",
   "metadata": {},
   "source": [
    "Clinical Kernel"
   ]
  },
  {
   "cell_type": "code",
   "execution_count": 30,
   "metadata": {},
   "outputs": [],
   "source": [
    "clinical_results=pd.DataFrame()\n",
    "\n",
    "clinical_results['train_C_index']=[]\n",
    "clinical_results['test_C_index']=[]"
   ]
  },
  {
   "cell_type": "code",
   "execution_count": null,
   "metadata": {},
   "outputs": [],
   "source": [
    "kernel_type = 'clinical'\n",
    "\n",
    "for i in range(100):\n",
    "    #variables = remaining_variable[i]\n",
    "    variables = eval(pd.read_csv(\"lung_cox_remaining_variables.csv\")['variable'][i])\n",
    "\n",
    "    df_onehot_re = df_onehot[variables]\n",
    "    \n",
    "    x_train, x_test, target_train, target_test = split_data(df_onehot_re, randomState = random_state[i])\n",
    "\n",
    "    y_train = prepare_response_variable(target_train)\n",
    "    y_test = prepare_response_variable(target_test)\n",
    "\n",
    "    results = c_index_kernel_type(x_train, y_train, x_test, y_test, param_grid, param_space, cv, keywords = ['Age', 'Sex'], type = kernel_type)\n",
    "    \n",
    "    clinical_results = clinical_results.append({\"train_C_index\":results[0],\"test_C_index\":results[1]}, ignore_index=True)\n",
    "\n",
    "clinical_results.to_csv(\"lung_cox_clinical.csv\", index = False, encoding = 'cp949')"
   ]
  },
  {
   "cell_type": "markdown",
   "metadata": {},
   "source": [
    "Ensemble Cox Kernel"
   ]
  },
  {
   "cell_type": "code",
   "execution_count": null,
   "metadata": {},
   "outputs": [],
   "source": [
    "ensemble_cox_results=pd.DataFrame()\n",
    "\n",
    "ensemble_cox_results['train_C_index']=[]\n",
    "ensemble_cox_results['test_C_index']=[]"
   ]
  },
  {
   "cell_type": "code",
   "execution_count": null,
   "metadata": {},
   "outputs": [],
   "source": [
    "kernel_type = 'ensemble_cox'\n",
    "\n",
    "for i in range(100):\n",
    "    #variables = all_results['remaining_variables'][i]\n",
    "    variables = eval(pd.read_csv(\"lung_cox_remaining_variables.csv\")['variable'][i])\n",
    "\n",
    "    variables.append('Status')\n",
    "    variables.append('OS')\n",
    "\n",
    "    df_onehot_re = df_onehot[variables]\n",
    "    \n",
    "    x_train, x_test, target_train, target_test = split_data(df_onehot_re, randomState = random_state[i])\n",
    "\n",
    "    y_train = prepare_response_variable(target_train)\n",
    "    y_test = prepare_response_variable(target_test)\n",
    "\n",
    "    results = c_index_kernel_type(x_train, y_train, x_test, y_test, param_grid, param_space, cv, keywords = ['Age', 'Sex'], type = kernel_type)\n",
    "    \n",
    "    ensemble_aft_results = ensemble_aft_results.append({\"train_C_index\":results[0],\"test_C_index\":results[1]}, ignore_index=True)\n",
    "\n",
    "ensemble_aft_results.to_csv(\"lung_cox_cox.csv\", index = False, encoding = 'cp949')"
   ]
  },
  {
   "cell_type": "markdown",
   "metadata": {},
   "source": [
    "Ensemble AFT Kernel"
   ]
  },
  {
   "cell_type": "code",
   "execution_count": 33,
   "metadata": {},
   "outputs": [],
   "source": [
    "ensemble_aft_results=pd.DataFrame()\n",
    "\n",
    "ensemble_aft_results['train_C_index']=[]\n",
    "ensemble_aft_results['test_C_index']=[]"
   ]
  },
  {
   "cell_type": "code",
   "execution_count": null,
   "metadata": {},
   "outputs": [],
   "source": [
    "kernel_type = 'ensemble_aft'\n",
    "\n",
    "for i in range(100):\n",
    "    #variables = remaining_variable[i]\n",
    "    variables = eval(pd.read_csv(\"lung_cox_remaining_variables.csv\")['variable'][i])\n",
    "\n",
    "    df_onehot_re = df_onehot[variables]\n",
    "    \n",
    "    x_train, x_test, target_train, target_test = split_data(df_onehot_re, randomState = random_state[i])\n",
    "\n",
    "    y_train = prepare_response_variable(target_train)\n",
    "    y_test = prepare_response_variable(target_test)\n",
    "\n",
    "    results = c_index_kernel_type(x_train, y_train, x_test, y_test, param_grid, param_space, cv, keywords = ['Age', 'Sex'], type = kernel_type)\n",
    "    \n",
    "    ensemble_aft_results = ensemble_aft_results.append({\"train_C_index\":results[0],\"test_C_index\":results[1]}, ignore_index=True)\n",
    "\n",
    "ensemble_aft_results.to_csv(\"lung_cox_aft.csv\", index = False, encoding = 'cp949')"
   ]
  },
  {
   "cell_type": "markdown",
   "metadata": {},
   "source": [
    "### Result"
   ]
  },
  {
   "cell_type": "code",
   "execution_count": 25,
   "metadata": {},
   "outputs": [],
   "source": [
    "linear_results = pd.read_csv('lung_cox_linear.csv')\n",
    "clinical_results = pd.read_csv('lung_cox_clinical.csv')\n",
    "ensemble_cox_results = pd.read_csv('lung_cox_cox.csv')\n",
    "ensemble_aft_results = pd.read_csv('lung_cox_aft.csv')"
   ]
  },
  {
   "cell_type": "markdown",
   "metadata": {},
   "source": [
    "The count of selevtions for each remaining variables"
   ]
  },
  {
   "cell_type": "code",
   "execution_count": 26,
   "metadata": {},
   "outputs": [
    {
     "name": "stdout",
     "output_type": "stream",
     "text": [
      "{'ph.ecog': 74, 'pat.karno': 81, 'Sex': 100, 'Age': 100, 'OS': 100, 'Status': 100, 'ph.karno': 58, 'wt.loss': 54, 'meal.cal': 51}\n"
     ]
    }
   ],
   "source": [
    "remaining_variables_all = []\n",
    "for i in range(0,100):\n",
    "    remaining_variables_all += eval(pd.read_csv(\"lung_cox_remaining_variables.csv\")['variable'][i])\n",
    "\n",
    "element_counts = {}\n",
    "\n",
    "for element in remaining_variables_all:\n",
    "    if element in element_counts:\n",
    "        element_counts[element] += 1\n",
    "    else:\n",
    "        element_counts[element] = 1\n",
    "\n",
    "print(element_counts)"
   ]
  },
  {
   "cell_type": "markdown",
   "metadata": {},
   "source": [
    "The value of the C-index"
   ]
  },
  {
   "cell_type": "code",
   "execution_count": 27,
   "metadata": {},
   "outputs": [
    {
     "name": "stdout",
     "output_type": "stream",
     "text": [
      "0.5653\n",
      "0.0415\n",
      "0.5559\n",
      "0.0455\n"
     ]
    }
   ],
   "source": [
    "print(round(np.mean(linear_results['train_C_index']),4))\n",
    "print(round(np.std(linear_results['train_C_index']),4))\n",
    "print(round(np.mean(linear_results['test_C_index']),4))\n",
    "print(round(np.std(linear_results['test_C_index']),4))"
   ]
  },
  {
   "cell_type": "code",
   "execution_count": 28,
   "metadata": {},
   "outputs": [
    {
     "name": "stdout",
     "output_type": "stream",
     "text": [
      "0.667\n",
      "0.0208\n",
      "0.6316\n",
      "0.0341\n"
     ]
    }
   ],
   "source": [
    "print(round(np.mean(clinical_results['train_C_index']),4))\n",
    "print(round(np.std(clinical_results['train_C_index']),4))\n",
    "print(round(np.mean(clinical_results['test_C_index']),4))\n",
    "print(round(np.std(clinical_results['test_C_index']),4))"
   ]
  },
  {
   "cell_type": "code",
   "execution_count": 29,
   "metadata": {},
   "outputs": [
    {
     "name": "stdout",
     "output_type": "stream",
     "text": [
      "0.6612\n",
      "0.0197\n",
      "0.6292\n",
      "0.0348\n"
     ]
    }
   ],
   "source": [
    "print(round(np.mean(ensemble_cox_results['train_C_index']),4))\n",
    "print(round(np.std(ensemble_cox_results['train_C_index']),4))\n",
    "print(round(np.mean(ensemble_cox_results['test_C_index']),4))\n",
    "print(round(np.std(ensemble_cox_results['test_C_index']),4))"
   ]
  },
  {
   "cell_type": "code",
   "execution_count": 30,
   "metadata": {},
   "outputs": [
    {
     "name": "stdout",
     "output_type": "stream",
     "text": [
      "0.6622\n",
      "0.021\n",
      "0.6282\n",
      "0.0347\n"
     ]
    }
   ],
   "source": [
    "print(round(np.mean(ensemble_aft_results['train_C_index']),4))\n",
    "print(round(np.std(ensemble_aft_results['train_C_index']),4))\n",
    "print(round(np.mean(ensemble_aft_results['test_C_index']),4))\n",
    "print(round(np.std(ensemble_aft_results['test_C_index']),4))"
   ]
  },
  {
   "cell_type": "markdown",
   "metadata": {},
   "source": [
    "## Scenario 3"
   ]
  },
  {
   "cell_type": "code",
   "execution_count": 44,
   "metadata": {},
   "outputs": [],
   "source": [
    "aft_remaining_variable=pd.DataFrame()\n",
    "\n",
    "aft_remaining_variable['variable']=[]"
   ]
  },
  {
   "cell_type": "markdown",
   "metadata": {},
   "source": [
    "The C-index results"
   ]
  },
  {
   "cell_type": "code",
   "execution_count": null,
   "metadata": {},
   "outputs": [],
   "source": [
    "for i in range(100):\n",
    "    x_train, x_test, target_train, target_test = split_data(df_onehot, randomState = random_state[i])\n",
    "\n",
    "    y_train = prepare_response_variable(target_train)\n",
    "    y_test = prepare_response_variable(target_test)\n",
    "\n",
    "    # Separating OS and Status\n",
    "    drop = x_train[['Age','Sex','OS','Status']]\n",
    "    x_train_drop = x_train.drop(columns=['Age','Sex','OS','Status'])\n",
    "\n",
    "    # Save column names of a DataFrame into a list\n",
    "    columns = x_train_drop.columns\n",
    "\n",
    "    column_groups = []\n",
    "\n",
    "    for i in range(len(columns)):\n",
    "        # Generate all combinations of columns taken i+1 at a time\n",
    "        all_column_combinations = list(combinations(columns, i+1))\n",
    "\n",
    "        # Create a DataFrame for each combination\n",
    "        for column_combination in all_column_combinations:\n",
    "            selected_columns = list(column_combination)\n",
    "            sub_train1 = x_train_drop[selected_columns]\n",
    "            sub_train2 = pd.concat([sub_train1, drop], axis=1)\n",
    "            column_groups.append(sub_train2)\n",
    "    \n",
    "    num_groups = 3\n",
    "    best_cindex = []\n",
    "\n",
    "    for i in range(len(column_groups)):\n",
    "        x_groups = []\n",
    "        train = column_groups[i].sample(frac=1).reset_index(drop=True)\n",
    "\n",
    "        # Splitting the train data into groups\n",
    "        for i in range(num_groups):\n",
    "            censored = train[train['Status'] == 0]  # Extract rows with a value of 0\n",
    "            uncensored = train[train['Status'] == 1]  # Extract rows with a value of 1\n",
    "\n",
    "            group_size1 = len(censored) // num_groups\n",
    "            group_size2 = len(uncensored) // num_groups\n",
    "\n",
    "            if i < num_groups - 1:\n",
    "                # Adjusting the censoring ratio\n",
    "                group1 = censored.iloc[i * group_size1:(i + 1) * group_size1]\n",
    "                group2 = uncensored.iloc[i * group_size2:(i + 1) * group_size2]\n",
    "\n",
    "                group = pd.concat([group1, group2], ignore_index=True)\n",
    "            else:\n",
    "                group1 = censored.iloc[i * group_size1:]\n",
    "                group2 = uncensored.iloc[i * group_size2:]\n",
    "\n",
    "                group = pd.concat([group1, group2], ignore_index=True)\n",
    "    \n",
    "            x_groups.append(group)\n",
    "\n",
    "        cindex = []\n",
    "\n",
    "        for i in range(len(x_groups)):\n",
    "\n",
    "            temp = []\n",
    "            for j in range(len(x_groups)):\n",
    "                if i != j:\n",
    "                    temp.append(x_groups[j])\n",
    "            #train = train data(One out of the equally divided segments, excluding one)\n",
    "            train=pd.concat(temp)\n",
    "\n",
    "            #validation = validation data(One of the equally divided segments)\n",
    "            validation = x_groups[i]\n",
    "            \n",
    "            train_target=train[['Status','OS']]\n",
    "            test_target=validation[['Status','OS']]\n",
    "\n",
    "            train_y=prepare_response_variable(train_target)\n",
    "            test_y=prepare_response_variable(test_target)\n",
    "            #Define data -> train, train_y, validation,  test_y\n",
    "\n",
    "            result = c_index_kernel_type(train, train_y, validation, test_y, param_grid, param_space, cv, keywords = ['Age', 'Sex'], type = 'ensemble_aft')\n",
    "            cindex.append(result[1])\n",
    "\n",
    "        #best_cindex: Store all validation c-index values for each selected variable as a list\n",
    "        best_cindex.append(np.mean(cindex))\n",
    "\n",
    "    #max_num: Index number of the best c-index in the list\n",
    "    max_num = best_cindex.index(max(best_cindex))\n",
    "\n",
    "    #train_column: Selected variables for the best c-index\n",
    "    train_column = column_groups[max_num].columns\n",
    "    \n",
    "    aft_remaining_variable = aft_remaining_variable.append({\"variable\": list(train_column)}, ignore_index = True)\n",
    "\n",
    "aft_remaining_variable.to_csv(\"lung_aft_remaining_variables.csv\", index = False, encoding = 'cp949')"
   ]
  },
  {
   "cell_type": "markdown",
   "metadata": {},
   "source": [
    "### Check results by Kernel type"
   ]
  },
  {
   "cell_type": "markdown",
   "metadata": {},
   "source": [
    "Linear Kernel"
   ]
  },
  {
   "cell_type": "code",
   "execution_count": 31,
   "metadata": {},
   "outputs": [],
   "source": [
    "linear_results=pd.DataFrame()\n",
    "\n",
    "linear_results['train_C_index']=[]\n",
    "linear_results['test_C_index']=[]"
   ]
  },
  {
   "cell_type": "code",
   "execution_count": null,
   "metadata": {},
   "outputs": [],
   "source": [
    "kernel_type = 'linear'\n",
    "\n",
    "for i in range(100):\n",
    "    #variables = remaining_variable[i]\n",
    "    variables = eval(pd.read_csv(\"lung_aft_remaining_variables.csv\")['variable'][i])\n",
    "    \n",
    "    df_onehot_re = df_onehot[variables]\n",
    "    \n",
    "    x_train, x_test, target_train, target_test = split_data(df_onehot_re, randomState = random_state[i])\n",
    "\n",
    "    y_train = prepare_response_variable(target_train)\n",
    "    y_test = prepare_response_variable(target_test)\n",
    "\n",
    "    results = c_index_kernel_type(x_train, y_train, x_test, y_test, param_grid, param_space, cv, keywords = ['Age', 'Sex'], type = kernel_type)\n",
    "    \n",
    "    linear_results = linear_results.append({\"train_C_index\":results[0],\"test_C_index\":results[1]}, ignore_index=True)\n",
    "\n",
    "linear_results.to_csv(\"lung_aft_linear.csv\", index = False, encoding = 'cp949')\n"
   ]
  },
  {
   "cell_type": "markdown",
   "metadata": {},
   "source": [
    "Clinical Kernel"
   ]
  },
  {
   "cell_type": "code",
   "execution_count": null,
   "metadata": {},
   "outputs": [],
   "source": [
    "clinical_results=pd.DataFrame()\n",
    "\n",
    "clinical_results['train_C_index']=[]\n",
    "clinical_results['test_C_index']=[]"
   ]
  },
  {
   "cell_type": "code",
   "execution_count": null,
   "metadata": {},
   "outputs": [],
   "source": [
    "kernel_type = 'clinical'\n",
    "\n",
    "for i in range(100):\n",
    "    #variables = remaining_variable[i]\n",
    "    variables = eval(pd.read_csv(\"lung_aft_remaining_variables.csv\")['variable'][i])\n",
    "\n",
    "    df_onehot_re = df_onehot[variables]\n",
    "    \n",
    "    x_train, x_test, target_train, target_test = split_data(df_onehot_re, randomState = random_state[i])\n",
    "\n",
    "    y_train = prepare_response_variable(target_train)\n",
    "    y_test = prepare_response_variable(target_test)\n",
    "\n",
    "    results = c_index_kernel_type(x_train, y_train, x_test, y_test, param_grid, param_space, cv, keywords = ['Age', 'Sex'], type = kernel_type)\n",
    "    \n",
    "    clinical_results = clinical_results.append({\"train_C_index\":results[0],\"test_C_index\":results[1]}, ignore_index=True)\n",
    "\n",
    "clinical_results.to_csv(\"lung_aft_clinical.csv\", index = False, encoding = 'cp949')\n"
   ]
  },
  {
   "cell_type": "markdown",
   "metadata": {},
   "source": [
    "Ensemble Cox Kernel"
   ]
  },
  {
   "cell_type": "code",
   "execution_count": null,
   "metadata": {},
   "outputs": [],
   "source": [
    "ensemble_cox_results=pd.DataFrame()\n",
    "\n",
    "ensemble_cox_results['train_C_index']=[]\n",
    "ensemble_cox_results['test_C_index']=[]"
   ]
  },
  {
   "cell_type": "code",
   "execution_count": null,
   "metadata": {},
   "outputs": [],
   "source": [
    "kernel_type = 'ensemble_cox'\n",
    "\n",
    "for i in range(100):\n",
    "    #variables = remaining_variable[i]\n",
    "    variables = eval(pd.read_csv(\"lung_aft_remaining_variables.csv\")['variable'][i])\n",
    "\n",
    "    df_onehot_re = df_onehot[variables]\n",
    "    \n",
    "    x_train, x_test, target_train, target_test = split_data(df_onehot_re, randomState = random_state[i])\n",
    "\n",
    "    y_train = prepare_response_variable(target_train)\n",
    "    y_test = prepare_response_variable(target_test)\n",
    "\n",
    "    results = c_index_kernel_type(x_train, y_train, x_test, y_test, param_grid, param_space, cv, keywords = ['Age', 'Sex'], type = kernel_type)\n",
    "    \n",
    "    ensemble_cox_results = ensemble_cox_results.append({\"train_C_index\":results[0],\"test_C_index\":results[1]}, ignore_index=True)\n",
    "\n",
    "ensemble_cox_results.to_csv(\"lung_aft_cox.csv\", index = False, encoding = 'cp949')"
   ]
  },
  {
   "cell_type": "markdown",
   "metadata": {},
   "source": [
    "Ensemble AFT Kernel"
   ]
  },
  {
   "cell_type": "code",
   "execution_count": null,
   "metadata": {},
   "outputs": [],
   "source": [
    "ensemble_aft_results=pd.DataFrame()\n",
    "\n",
    "ensemble_aft_results['train_C_index']=[]\n",
    "ensemble_aft_results['test_C_index']=[]"
   ]
  },
  {
   "cell_type": "code",
   "execution_count": null,
   "metadata": {},
   "outputs": [],
   "source": [
    "kernel_type = 'ensemble_aft'\n",
    "\n",
    "for i in range(100):\n",
    "    #variables = remaining_variable[i]\n",
    "    variables = eval(pd.read_csv(\"lung_aft_remaining_variables.csv\")['variable'][i])\n",
    "\n",
    "    df_onehot_re = df_onehot[variables]\n",
    "    \n",
    "    x_train, x_test, target_train, target_test = split_data(df_onehot_re, randomState = random_state[i])\n",
    "\n",
    "    y_train = prepare_response_variable(target_train)\n",
    "    y_test = prepare_response_variable(target_test)\n",
    "\n",
    "    results = c_index_kernel_type(x_train, y_train, x_test, y_test, param_grid, param_space, cv, keywords = ['Age', 'Sex'], type = kernel_type)\n",
    "    \n",
    "    ensemble_aft_results = ensemble_aft_results.append({\"train_C_index\":results[0],\"test_C_index\":results[1]}, ignore_index=True)\n",
    "\n",
    "ensemble_aft_results.to_csv(\"lung_aft_aft.csv\", index = False, encoding = 'cp949')"
   ]
  },
  {
   "cell_type": "markdown",
   "metadata": {},
   "source": [
    "### Result"
   ]
  },
  {
   "cell_type": "code",
   "execution_count": 33,
   "metadata": {},
   "outputs": [],
   "source": [
    "linear_results = pd.read_csv('lung_aft_linear.csv')\n",
    "clinical_results = pd.read_csv('lung_aft_clinical.csv')\n",
    "ensemble_cox_results = pd.read_csv('lung_aft_cox.csv')\n",
    "ensemble_aft_results = pd.read_csv('lung_aft_aft.csv')"
   ]
  },
  {
   "cell_type": "markdown",
   "metadata": {},
   "source": [
    "The count of selections for each remaining variables"
   ]
  },
  {
   "cell_type": "code",
   "execution_count": 36,
   "metadata": {},
   "outputs": [
    {
     "name": "stdout",
     "output_type": "stream",
     "text": [
      "{'ph.ecog': 76, 'pat.karno': 76, 'meal.cal': 52, 'wt.loss': 46, 'Sex': 100, 'Age': 100, 'OS': 100, 'Status': 100, 'ph.karno': 46}\n"
     ]
    }
   ],
   "source": [
    "remaining_variables_all=[]\n",
    "for i in range(0,100):\n",
    "    remaining_variables_all += eval(pd.read_csv(\"lung_aft_remaining_variables.csv\")['variable'][i])\n",
    "\n",
    "element_counts = {}\n",
    "\n",
    "for element in remaining_variables_all:\n",
    "    if element in element_counts:\n",
    "        element_counts[element] += 1\n",
    "    else:\n",
    "        element_counts[element] = 1\n",
    "\n",
    "print(element_counts)"
   ]
  },
  {
   "cell_type": "markdown",
   "metadata": {},
   "source": [
    "The value of the C-index"
   ]
  },
  {
   "cell_type": "code",
   "execution_count": 37,
   "metadata": {},
   "outputs": [
    {
     "name": "stdout",
     "output_type": "stream",
     "text": [
      "0.5616\n",
      "0.039\n",
      "0.5598\n",
      "0.0486\n"
     ]
    }
   ],
   "source": [
    "print(round(np.mean(linear_results['train_C_index']),4))\n",
    "print(round(np.std(linear_results['train_C_index']),4))\n",
    "print(round(np.mean(linear_results['test_C_index']),4))\n",
    "print(round(np.std(linear_results['test_C_index']),4))"
   ]
  },
  {
   "cell_type": "code",
   "execution_count": 38,
   "metadata": {},
   "outputs": [
    {
     "name": "stdout",
     "output_type": "stream",
     "text": [
      "0.669\n",
      "0.0229\n",
      "0.6304\n",
      "0.0369\n"
     ]
    }
   ],
   "source": [
    "print(round(np.mean(clinical_results['train_C_index']),4))\n",
    "print(round(np.std(clinical_results['train_C_index']),4))\n",
    "print(round(np.mean(clinical_results['test_C_index']),4))\n",
    "print(round(np.std(clinical_results['test_C_index']),4))"
   ]
  },
  {
   "cell_type": "code",
   "execution_count": 39,
   "metadata": {},
   "outputs": [
    {
     "name": "stdout",
     "output_type": "stream",
     "text": [
      "0.6623\n",
      "0.0233\n",
      "0.6268\n",
      "0.0375\n"
     ]
    }
   ],
   "source": [
    "print(round(np.mean(ensemble_cox_results['train_C_index']),4))\n",
    "print(round(np.std(ensemble_cox_results['train_C_index']),4))\n",
    "print(round(np.mean(ensemble_cox_results['test_C_index']),4))\n",
    "print(round(np.std(ensemble_cox_results['test_C_index']),4))"
   ]
  },
  {
   "cell_type": "code",
   "execution_count": 40,
   "metadata": {},
   "outputs": [
    {
     "name": "stdout",
     "output_type": "stream",
     "text": [
      "0.6638\n",
      "0.023\n",
      "0.6264\n",
      "0.0362\n"
     ]
    }
   ],
   "source": [
    "print(round(np.mean(ensemble_aft_results['train_C_index']),4))\n",
    "print(round(np.std(ensemble_aft_results['train_C_index']),4))\n",
    "print(round(np.mean(ensemble_aft_results['test_C_index']),4))\n",
    "print(round(np.std(ensemble_aft_results['test_C_index']),4))"
   ]
  }
 ],
 "metadata": {
  "kernelspec": {
   "display_name": "Python 3",
   "language": "python",
   "name": "python3"
  },
  "language_info": {
   "codemirror_mode": {
    "name": "ipython",
    "version": 3
   },
   "file_extension": ".py",
   "mimetype": "text/x-python",
   "name": "python",
   "nbconvert_exporter": "python",
   "pygments_lexer": "ipython3",
   "version": "3.10.7"
  },
  "orig_nbformat": 4
 },
 "nbformat": 4,
 "nbformat_minor": 2
}
