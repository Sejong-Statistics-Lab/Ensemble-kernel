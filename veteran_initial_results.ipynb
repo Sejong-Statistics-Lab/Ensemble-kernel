{
 "cells": [
  {
   "cell_type": "code",
   "execution_count": 1,
   "metadata": {},
   "outputs": [],
   "source": [
    "import numpy as np\n",
    "import pandas as pd\n",
    "from lifelines import KaplanMeierFitter, CoxPHFitter\n",
    "import matplotlib.pyplot as plt\n",
    "from sklearn.model_selection import train_test_split\n",
    "import seaborn as sns\n",
    "from sklearn import set_config\n",
    "from sklearn.model_selection import ShuffleSplit, GridSearchCV\n",
    "from sklearn.model_selection import StratifiedKFold\n",
    "\n",
    "from sksurv.column import encode_categorical\n",
    "from sksurv.metrics import concordance_index_censored\n",
    "from sksurv.svm import FastSurvivalSVM, FastKernelSurvivalSVM\n",
    "from sksurv.kernels import clinical_kernel"
   ]
  },
  {
   "cell_type": "code",
   "execution_count": 2,
   "metadata": {},
   "outputs": [],
   "source": [
    "data = pd.read_csv(\"G:/내 드라이브/대학/대외/2023/연구원/연구과제/Ensemble-Kernel/veteran.csv\")\n",
    "np.sum(data.isna())\n",
    "df = data\n",
    "df = df.astype({'prior' : 'category', 'trt' : 'category', 'celltype' : 'category'})\n",
    "\n",
    "data_0 = df[df['status']==0]\n",
    "data_1 = df[df['status']==1]\n",
    "\n",
    "x_train_0, x_test_0, target_train_0, target_test_0 = train_test_split(data_0.drop(['time','status'], axis = 1),data_0[['time','status']], test_size = 0.5, random_state = 42)\n",
    "x_train_1, x_test_1, target_train_1, target_test_1 = train_test_split(data_1.drop(['time','status'], axis = 1),data_1[['time','status']], test_size = 0.5, random_state = 42)\n",
    "\n",
    "len(x_train_0)\n",
    "len(x_test_0)\n",
    "\n",
    "len(x_train_1)\n",
    "len(x_test_1)\n",
    "\n",
    "x_test_0 = x_test_0\n",
    "target_test_0 = target_test_0\n",
    "\n",
    "x_test_1 = x_test_1\n",
    "target_test_1 = target_test_1\n",
    "\n",
    "x_train = pd.concat([x_train_0, x_train_1])\n",
    "x_test = pd.concat([x_test_0, x_test_1])[:-1]\n",
    "target_train = pd.concat([target_train_0, target_train_1])\n",
    "target_test = pd.concat([target_test_0, target_test_1])[:-1]\n",
    "\n",
    "x_train['time'] = target_train['time']\n",
    "x_train['status'] = target_train['status']\n",
    "x_test['time'] = target_test['time']\n",
    "x_test['status'] = target_test['status']"
   ]
  },
  {
   "cell_type": "code",
   "execution_count": 3,
   "metadata": {},
   "outputs": [
    {
     "name": "stdout",
     "output_type": "stream",
     "text": [
      "<class 'pandas.core.frame.DataFrame'>\n",
      "Int64Index: 68 entries, 20 to 111\n",
      "Data columns (total 8 columns):\n",
      " #   Column    Non-Null Count  Dtype   \n",
      "---  ------    --------------  -----   \n",
      " 0   karno     68 non-null     int64   \n",
      " 1   diagtime  68 non-null     int64   \n",
      " 2   age       68 non-null     int64   \n",
      " 3   prior     68 non-null     category\n",
      " 4   trt       68 non-null     category\n",
      " 5   celltype  68 non-null     category\n",
      " 6   time      68 non-null     int64   \n",
      " 7   status    68 non-null     int64   \n",
      "dtypes: category(3), int64(5)\n",
      "memory usage: 3.8 KB\n"
     ]
    }
   ],
   "source": [
    "x_train.info()"
   ]
  },
  {
   "cell_type": "code",
   "execution_count": 9,
   "metadata": {},
   "outputs": [],
   "source": [
    "def my_kernel(data):\n",
    "    \n",
    "    temp = [0,0,0,1,1,1]\n",
    "    \n",
    "    def c_o(data):\n",
    "        data_matrix = np.eye(len(data))\n",
    "        d = np.max(data) - np.min(data)\n",
    "        for i in range(len(data)):\n",
    "            for j in range(len(data)):\n",
    "                data_matrix[i,j] = (d-np.abs(data.iloc[i]-data.iloc[j]))/d\n",
    "        return data_matrix\n",
    "\n",
    "    def nom(data):\n",
    "        data_matrix = np.eye(len(data))\n",
    "        for i in range(len(data)):\n",
    "            for j in range(len(data)):\n",
    "                if data.iloc[i] == data.iloc[j]:\n",
    "                    data_matrix[i,j] = 1\n",
    "                else:\n",
    "                    data_matrix[i,j] = 0\n",
    "        return data_matrix\n",
    "    \n",
    "    from lifelines import CoxPHFitter\n",
    "    coxph = CoxPHFitter()\n",
    "    coxph.fit(data, duration_col = 'time', event_col = 'status')\n",
    "    coef = np.log(coxph.hazard_ratios_)\n",
    "\n",
    "    sum_matrix = 0\n",
    "    coefSum = 0\n",
    "\n",
    "    for i in range(len(temp)):\n",
    "\n",
    "        if temp[i] == 0:\n",
    "\n",
    "            sum_matrix += coef[i] * c_o(data[data.columns[i]])\n",
    "        \n",
    "        else:\n",
    "\n",
    "            sum_matrix += coef[i] * nom(data[data.columns[i]])\n",
    "\n",
    "        coefSum += coef[i]\n",
    "            \n",
    "    return sum_matrix / coefSum"
   ]
  },
  {
   "cell_type": "code",
   "execution_count": 10,
   "metadata": {},
   "outputs": [
    {
     "data": {
      "text/plain": [
       "array([(False, 123), (False, 182), (False,  97), (False, 231),\n",
       "       ( True,  87), ( True, 110), ( True,  35), ( True, 201),\n",
       "       ( True,  84), ( True,  48), ( True, 314), ( True,  30),\n",
       "       ( True,  61), ( True, 126), ( True,  13), ( True,  63),\n",
       "       ( True,  33), ( True,  18), ( True,  82), ( True,  21),\n",
       "       ( True, 140), ( True,  53), ( True, 278), ( True, 177),\n",
       "       ( True, 164), ( True,  12), ( True, 133), ( True, 103),\n",
       "       ( True, 111), ( True,  44), ( True,  31), ( True,   8),\n",
       "       ( True, 156), ( True,  99), ( True,   3), ( True,   7),\n",
       "       ( True,   7), ( True, 200), ( True, 467), ( True,  18),\n",
       "       ( True,  15), ( True, 143), ( True, 100), ( True,  36),\n",
       "       ( True,   7), ( True,  31), ( True,  45), ( True, 411),\n",
       "       ( True, 216), ( True,  16), ( True, 228), ( True,  22),\n",
       "       ( True,  90), ( True,  24), ( True,  20), ( True,  52),\n",
       "       ( True, 357), ( True,   2), ( True,  25), ( True,  49),\n",
       "       ( True, 117), ( True, 105), ( True, 389), ( True,   8),\n",
       "       ( True, 384), ( True,  99), ( True, 162), ( True,  51)],\n",
       "      dtype=[('status', '?'), ('time', '<i8')])"
      ]
     },
     "execution_count": 10,
     "metadata": {},
     "output_type": "execute_result"
    }
   ],
   "source": [
    "dt = np.dtype([('status', np.bool_), ('time', np.int64 )])\n",
    "my_y_train = np.empty(shape=(len(target_train),),dtype=dt)\n",
    "\n",
    "for i in range(len(target_train)):\n",
    "    my_y_train[i]=bool(target_train.iloc[i]['status']), target_train.iloc[i]['time']\n",
    "    \n",
    "my_y_train"
   ]
  },
  {
   "cell_type": "code",
   "execution_count": 11,
   "metadata": {},
   "outputs": [
    {
     "data": {
      "text/plain": [
       "array([(False, 103), (False,  25), (False,  87), (False, 100),\n",
       "       (False,  83), ( True,  12), ( True,  10), ( True,  59),\n",
       "       ( True, 287), ( True,  29), ( True, 260), ( True,   1),\n",
       "       ( True,  52), ( True,  15), ( True,  18), ( True,  25),\n",
       "       ( True, 139), ( True, 999), ( True, 118), ( True,  80),\n",
       "       ( True,  19), ( True,  54), ( True, 283), ( True, 231),\n",
       "       ( True,  13), ( True, 153), ( True,   8), ( True,  19),\n",
       "       ( True, 144), ( True,  73), ( True, 132), ( True, 587),\n",
       "       ( True,  30), ( True, 162), ( True,  72), ( True,  11),\n",
       "       ( True,  92), ( True, 378), ( True,  56), ( True, 991),\n",
       "       ( True, 186), ( True,  24), ( True,   4), ( True,   1),\n",
       "       ( True, 151), ( True, 117), ( True, 112), ( True,  95),\n",
       "       ( True,  52), ( True, 250), ( True,  43), ( True,  42),\n",
       "       ( True,  51), ( True, 242), ( True,  21), ( True,  80),\n",
       "       ( True,  20), ( True,  51), ( True,   8), ( True, 553),\n",
       "       ( True,  10), ( True, 111), ( True,  25), ( True, 392),\n",
       "       ( True,  95), ( True,  27), ( True,  54), ( True, 340)],\n",
       "      dtype=[('status', '?'), ('time', '<i8')])"
      ]
     },
     "execution_count": 11,
     "metadata": {},
     "output_type": "execute_result"
    }
   ],
   "source": [
    "dt = np.dtype([('status', np.bool_), ('time', np.int64 )])\n",
    "my_y_test = np.empty(shape=(len(target_test),),dtype=dt)\n",
    "\n",
    "for i in range(len(target_test)):\n",
    "    my_y_test[i]=bool(target_test.iloc[i]['status']), target_test.iloc[i]['time']\n",
    "    \n",
    "my_y_test"
   ]
  },
  {
   "cell_type": "code",
   "execution_count": 12,
   "metadata": {},
   "outputs": [],
   "source": [
    "from sklearn.model_selection import KFold\n",
    "\n",
    "cv = KFold(n_splits = 5, shuffle=True, random_state=42)"
   ]
  },
  {
   "cell_type": "code",
   "execution_count": 13,
   "metadata": {},
   "outputs": [
    {
     "name": "stdout",
     "output_type": "stream",
     "text": [
      "covariate\n",
      "karno      -0.037031\n",
      "diagtime   -0.006160\n",
      "age         0.004350\n",
      "prior      -0.000334\n",
      "trt         0.409687\n",
      "celltype    0.202173\n",
      "Name: exp(coef), dtype: float64\n"
     ]
    },
    {
     "name": "stderr",
     "output_type": "stream",
     "text": [
      "c:\\Python\\lib\\site-packages\\sklearn\\model_selection\\_search.py:910: ConvergenceWarning: Optimization did not converge: Warning: Maximum number of iterations has been exceeded.\n",
      "  self.best_estimator_.fit(X, y, **fit_params)\n"
     ]
    }
   ],
   "source": [
    "kssvm = FastKernelSurvivalSVM(optimizer = \"rbtree\", kernel = 'precomputed', max_iter = 1000, tol = 1e-6, random_state = 42)\n",
    "surv_matrix = my_kernel(x_train)\n",
    "\n",
    "param_grid = {'alpha': np.linspace(0.01,1,100)}\n",
    "kgcv = GridSearchCV(kssvm, param_grid,\n",
    "                   n_jobs=-1, refit=True,\n",
    "                   cv=cv)\n",
    "kgcv = kgcv.fit(surv_matrix, my_y_train)"
   ]
  },
  {
   "cell_type": "code",
   "execution_count": 14,
   "metadata": {},
   "outputs": [
    {
     "data": {
      "text/plain": [
       "0.7624510651278662"
      ]
     },
     "execution_count": 14,
     "metadata": {},
     "output_type": "execute_result"
    }
   ],
   "source": [
    "kgcv.best_score_"
   ]
  },
  {
   "cell_type": "code",
   "execution_count": 15,
   "metadata": {},
   "outputs": [
    {
     "name": "stdout",
     "output_type": "stream",
     "text": [
      "covariate\n",
      "karno      -0.036157\n",
      "diagtime    0.004376\n",
      "age        -0.024117\n",
      "prior      -0.009847\n",
      "trt        -0.025258\n",
      "celltype    0.042559\n",
      "Name: exp(coef), dtype: float64\n"
     ]
    }
   ],
   "source": [
    "surv_matrix_test = my_kernel(x_test)"
   ]
  },
  {
   "cell_type": "code",
   "execution_count": 16,
   "metadata": {},
   "outputs": [
    {
     "data": {
      "text/plain": [
       "array([ 9.82166761e+19, -1.71910748e+20,  1.46514643e+20,  4.85162331e+19,\n",
       "       -5.12451017e+20,  5.99738120e+19, -2.90110453e+19,  2.02616448e+20,\n",
       "       -7.09731935e+19,  2.76028142e+20,  2.23251484e+20,  7.62589707e+19,\n",
       "       -4.68484067e+20,  7.73539685e+19,  2.76805206e+20,  2.17189927e+20,\n",
       "        1.20289840e+20, -5.32106031e+19, -1.52654637e+20,  2.73115755e+20,\n",
       "       -4.20454591e+20,  1.02515544e+20,  1.45445694e+20,  1.01252374e+20,\n",
       "        3.03584169e+20, -6.88455922e+19, -9.05554167e+19,  2.70172751e+20,\n",
       "        1.41023798e+20, -5.02646722e+20, -6.54610402e+20,  1.38366544e+20,\n",
       "        1.48778363e+20, -6.22569070e+20,  6.79651669e+19, -1.70773410e+20,\n",
       "       -6.59634251e+20,  3.12502571e+20, -3.36737027e+19, -7.52116378e+19,\n",
       "       -5.22276392e+20,  2.09211573e+20,  2.56623092e+20,  2.99296112e+20,\n",
       "        1.65548925e+20, -5.49087856e+20,  1.44950511e+20,  1.96771390e+20,\n",
       "        6.58350187e+19, -4.16784725e+19,  1.00715657e+20,  8.65037332e+19,\n",
       "        1.25273663e+20,  2.15685093e+20, -6.31946964e+19, -4.67845770e+20,\n",
       "        2.02099967e+20,  8.73527830e+19,  2.26742716e+20,  1.81194412e+20,\n",
       "        1.40213942e+20,  1.41953156e+20,  2.70998292e+20,  1.66838509e+20,\n",
       "       -5.32824529e+20,  1.20783185e+20, -7.41699301e+19,  1.20559972e+20])"
      ]
     },
     "execution_count": 16,
     "metadata": {},
     "output_type": "execute_result"
    }
   ],
   "source": [
    "kgcv.predict(surv_matrix_test)"
   ]
  },
  {
   "cell_type": "code",
   "execution_count": 17,
   "metadata": {},
   "outputs": [
    {
     "data": {
      "text/html": [
       "<style>#sk-container-id-1 {color: black;background-color: white;}#sk-container-id-1 pre{padding: 0;}#sk-container-id-1 div.sk-toggleable {background-color: white;}#sk-container-id-1 label.sk-toggleable__label {cursor: pointer;display: block;width: 100%;margin-bottom: 0;padding: 0.3em;box-sizing: border-box;text-align: center;}#sk-container-id-1 label.sk-toggleable__label-arrow:before {content: \"▸\";float: left;margin-right: 0.25em;color: #696969;}#sk-container-id-1 label.sk-toggleable__label-arrow:hover:before {color: black;}#sk-container-id-1 div.sk-estimator:hover label.sk-toggleable__label-arrow:before {color: black;}#sk-container-id-1 div.sk-toggleable__content {max-height: 0;max-width: 0;overflow: hidden;text-align: left;background-color: #f0f8ff;}#sk-container-id-1 div.sk-toggleable__content pre {margin: 0.2em;color: black;border-radius: 0.25em;background-color: #f0f8ff;}#sk-container-id-1 input.sk-toggleable__control:checked~div.sk-toggleable__content {max-height: 200px;max-width: 100%;overflow: auto;}#sk-container-id-1 input.sk-toggleable__control:checked~label.sk-toggleable__label-arrow:before {content: \"▾\";}#sk-container-id-1 div.sk-estimator input.sk-toggleable__control:checked~label.sk-toggleable__label {background-color: #d4ebff;}#sk-container-id-1 div.sk-label input.sk-toggleable__control:checked~label.sk-toggleable__label {background-color: #d4ebff;}#sk-container-id-1 input.sk-hidden--visually {border: 0;clip: rect(1px 1px 1px 1px);clip: rect(1px, 1px, 1px, 1px);height: 1px;margin: -1px;overflow: hidden;padding: 0;position: absolute;width: 1px;}#sk-container-id-1 div.sk-estimator {font-family: monospace;background-color: #f0f8ff;border: 1px dotted black;border-radius: 0.25em;box-sizing: border-box;margin-bottom: 0.5em;}#sk-container-id-1 div.sk-estimator:hover {background-color: #d4ebff;}#sk-container-id-1 div.sk-parallel-item::after {content: \"\";width: 100%;border-bottom: 1px solid gray;flex-grow: 1;}#sk-container-id-1 div.sk-label:hover label.sk-toggleable__label {background-color: #d4ebff;}#sk-container-id-1 div.sk-serial::before {content: \"\";position: absolute;border-left: 1px solid gray;box-sizing: border-box;top: 0;bottom: 0;left: 50%;z-index: 0;}#sk-container-id-1 div.sk-serial {display: flex;flex-direction: column;align-items: center;background-color: white;padding-right: 0.2em;padding-left: 0.2em;position: relative;}#sk-container-id-1 div.sk-item {position: relative;z-index: 1;}#sk-container-id-1 div.sk-parallel {display: flex;align-items: stretch;justify-content: center;background-color: white;position: relative;}#sk-container-id-1 div.sk-item::before, #sk-container-id-1 div.sk-parallel-item::before {content: \"\";position: absolute;border-left: 1px solid gray;box-sizing: border-box;top: 0;bottom: 0;left: 50%;z-index: -1;}#sk-container-id-1 div.sk-parallel-item {display: flex;flex-direction: column;z-index: 1;position: relative;background-color: white;}#sk-container-id-1 div.sk-parallel-item:first-child::after {align-self: flex-end;width: 50%;}#sk-container-id-1 div.sk-parallel-item:last-child::after {align-self: flex-start;width: 50%;}#sk-container-id-1 div.sk-parallel-item:only-child::after {width: 0;}#sk-container-id-1 div.sk-dashed-wrapped {border: 1px dashed gray;margin: 0 0.4em 0.5em 0.4em;box-sizing: border-box;padding-bottom: 0.4em;background-color: white;}#sk-container-id-1 div.sk-label label {font-family: monospace;font-weight: bold;display: inline-block;line-height: 1.2em;}#sk-container-id-1 div.sk-label-container {text-align: center;}#sk-container-id-1 div.sk-container {/* jupyter's `normalize.less` sets `[hidden] { display: none; }` but bootstrap.min.css set `[hidden] { display: none !important; }` so we also need the `!important` here to be able to override the default hidden behavior on the sphinx rendered scikit-learn.org. See: https://github.com/scikit-learn/scikit-learn/issues/21755 */display: inline-block !important;position: relative;}#sk-container-id-1 div.sk-text-repr-fallback {display: none;}</style><div id=\"sk-container-id-1\" class=\"sk-top-container\"><div class=\"sk-text-repr-fallback\"><pre>FastKernelSurvivalSVM(alpha=0.23, kernel=&#x27;precomputed&#x27;, max_iter=1000,\n",
       "                      optimizer=&#x27;rbtree&#x27;, random_state=42, tol=1e-06)</pre><b>In a Jupyter environment, please rerun this cell to show the HTML representation or trust the notebook. <br />On GitHub, the HTML representation is unable to render, please try loading this page with nbviewer.org.</b></div><div class=\"sk-container\" hidden><div class=\"sk-item\"><div class=\"sk-estimator sk-toggleable\"><input class=\"sk-toggleable__control sk-hidden--visually\" id=\"sk-estimator-id-1\" type=\"checkbox\" checked><label for=\"sk-estimator-id-1\" class=\"sk-toggleable__label sk-toggleable__label-arrow\">FastKernelSurvivalSVM</label><div class=\"sk-toggleable__content\"><pre>FastKernelSurvivalSVM(alpha=0.23, kernel=&#x27;precomputed&#x27;, max_iter=1000,\n",
       "                      optimizer=&#x27;rbtree&#x27;, random_state=42, tol=1e-06)</pre></div></div></div></div></div>"
      ],
      "text/plain": [
       "FastKernelSurvivalSVM(alpha=0.23, kernel='precomputed', max_iter=1000,\n",
       "                      optimizer='rbtree', random_state=42, tol=1e-06)"
      ]
     },
     "execution_count": 17,
     "metadata": {},
     "output_type": "execute_result"
    }
   ],
   "source": [
    "kgcv.best_estimator_"
   ]
  },
  {
   "cell_type": "code",
   "execution_count": 18,
   "metadata": {},
   "outputs": [],
   "source": [
    "x_train_data = x_train.drop(['time','status'], axis = 1)\n",
    "x_test_data = x_test.drop(['time','status'], axis = 1)"
   ]
  },
  {
   "cell_type": "code",
   "execution_count": 19,
   "metadata": {},
   "outputs": [],
   "source": [
    "kssvm = FastKernelSurvivalSVM(optimizer = \"rbtree\", kernel = 'precomputed', max_iter = 1000, tol = 1e-6, random_state = 42)\n",
    "kernel_matrix = clinical_kernel(x_train_data)\n",
    "param_grid = {'alpha': np.linspace(0.01,1,100)}\n",
    "\n",
    "kgcv_cli = GridSearchCV(kssvm, param_grid,\n",
    "                   n_jobs=-1, refit=True,\n",
    "                   cv=cv)\n",
    "kgcv_cli = kgcv_cli.fit(kernel_matrix, my_y_train)"
   ]
  },
  {
   "cell_type": "code",
   "execution_count": 20,
   "metadata": {},
   "outputs": [
    {
     "data": {
      "text/plain": [
       "0.7720263697527412"
      ]
     },
     "execution_count": 20,
     "metadata": {},
     "output_type": "execute_result"
    }
   ],
   "source": [
    "kgcv_cli.best_score_"
   ]
  },
  {
   "cell_type": "code",
   "execution_count": 21,
   "metadata": {},
   "outputs": [],
   "source": [
    "kernel_matrix_test = clinical_kernel(x_test_data)"
   ]
  },
  {
   "cell_type": "code",
   "execution_count": 22,
   "metadata": {},
   "outputs": [
    {
     "data": {
      "text/plain": [
       "array([-29.86900265,  -5.51474753, -17.40736819,  11.23455566,\n",
       "        -7.90781063,   8.37777   ,   9.2554262 ,  20.89786707,\n",
       "         0.24819695,  -0.95775275,  -6.59771629,   0.47522342,\n",
       "         0.39651382, -10.90662228,  19.47769855, -14.67028602,\n",
       "        -0.80600223, -24.47259674,   1.70990782,  -4.38583813,\n",
       "         5.03700907,   3.91837323, -16.95713865, -26.87318927,\n",
       "         0.83806511,   0.95391168,  15.35500147, -13.2417774 ,\n",
       "        26.97119866,   5.18184448,  10.01360065,  -4.81804905,\n",
       "        -9.69708001,  13.03063018,  17.14044246,  -1.99183893,\n",
       "        16.77132486, -22.47594561, -12.34208992, -21.28489282,\n",
       "        -7.09057913, -13.46386671,  13.36515519,  -3.86556409,\n",
       "        15.58874996,   9.33966459, -14.66307081, -16.70787046,\n",
       "         1.53575076,  -9.78879315, -24.21382195,  17.677096  ,\n",
       "         9.84391911,   2.11528461,   7.59559881,  12.20628746,\n",
       "        20.9098305 ,  -7.61576028, -19.37274669,  -2.44335704,\n",
       "        25.65134558,  -9.95130393,   8.40706598,  19.07914081,\n",
       "         8.18641177,   9.17969541,  -9.34527676, -31.1835312 ])"
      ]
     },
     "execution_count": 22,
     "metadata": {},
     "output_type": "execute_result"
    }
   ],
   "source": [
    "kgcv_cli.predict(kernel_matrix_test)"
   ]
  },
  {
   "cell_type": "code",
   "execution_count": 23,
   "metadata": {},
   "outputs": [
    {
     "data": {
      "text/html": [
       "<style>#sk-container-id-2 {color: black;background-color: white;}#sk-container-id-2 pre{padding: 0;}#sk-container-id-2 div.sk-toggleable {background-color: white;}#sk-container-id-2 label.sk-toggleable__label {cursor: pointer;display: block;width: 100%;margin-bottom: 0;padding: 0.3em;box-sizing: border-box;text-align: center;}#sk-container-id-2 label.sk-toggleable__label-arrow:before {content: \"▸\";float: left;margin-right: 0.25em;color: #696969;}#sk-container-id-2 label.sk-toggleable__label-arrow:hover:before {color: black;}#sk-container-id-2 div.sk-estimator:hover label.sk-toggleable__label-arrow:before {color: black;}#sk-container-id-2 div.sk-toggleable__content {max-height: 0;max-width: 0;overflow: hidden;text-align: left;background-color: #f0f8ff;}#sk-container-id-2 div.sk-toggleable__content pre {margin: 0.2em;color: black;border-radius: 0.25em;background-color: #f0f8ff;}#sk-container-id-2 input.sk-toggleable__control:checked~div.sk-toggleable__content {max-height: 200px;max-width: 100%;overflow: auto;}#sk-container-id-2 input.sk-toggleable__control:checked~label.sk-toggleable__label-arrow:before {content: \"▾\";}#sk-container-id-2 div.sk-estimator input.sk-toggleable__control:checked~label.sk-toggleable__label {background-color: #d4ebff;}#sk-container-id-2 div.sk-label input.sk-toggleable__control:checked~label.sk-toggleable__label {background-color: #d4ebff;}#sk-container-id-2 input.sk-hidden--visually {border: 0;clip: rect(1px 1px 1px 1px);clip: rect(1px, 1px, 1px, 1px);height: 1px;margin: -1px;overflow: hidden;padding: 0;position: absolute;width: 1px;}#sk-container-id-2 div.sk-estimator {font-family: monospace;background-color: #f0f8ff;border: 1px dotted black;border-radius: 0.25em;box-sizing: border-box;margin-bottom: 0.5em;}#sk-container-id-2 div.sk-estimator:hover {background-color: #d4ebff;}#sk-container-id-2 div.sk-parallel-item::after {content: \"\";width: 100%;border-bottom: 1px solid gray;flex-grow: 1;}#sk-container-id-2 div.sk-label:hover label.sk-toggleable__label {background-color: #d4ebff;}#sk-container-id-2 div.sk-serial::before {content: \"\";position: absolute;border-left: 1px solid gray;box-sizing: border-box;top: 0;bottom: 0;left: 50%;z-index: 0;}#sk-container-id-2 div.sk-serial {display: flex;flex-direction: column;align-items: center;background-color: white;padding-right: 0.2em;padding-left: 0.2em;position: relative;}#sk-container-id-2 div.sk-item {position: relative;z-index: 1;}#sk-container-id-2 div.sk-parallel {display: flex;align-items: stretch;justify-content: center;background-color: white;position: relative;}#sk-container-id-2 div.sk-item::before, #sk-container-id-2 div.sk-parallel-item::before {content: \"\";position: absolute;border-left: 1px solid gray;box-sizing: border-box;top: 0;bottom: 0;left: 50%;z-index: -1;}#sk-container-id-2 div.sk-parallel-item {display: flex;flex-direction: column;z-index: 1;position: relative;background-color: white;}#sk-container-id-2 div.sk-parallel-item:first-child::after {align-self: flex-end;width: 50%;}#sk-container-id-2 div.sk-parallel-item:last-child::after {align-self: flex-start;width: 50%;}#sk-container-id-2 div.sk-parallel-item:only-child::after {width: 0;}#sk-container-id-2 div.sk-dashed-wrapped {border: 1px dashed gray;margin: 0 0.4em 0.5em 0.4em;box-sizing: border-box;padding-bottom: 0.4em;background-color: white;}#sk-container-id-2 div.sk-label label {font-family: monospace;font-weight: bold;display: inline-block;line-height: 1.2em;}#sk-container-id-2 div.sk-label-container {text-align: center;}#sk-container-id-2 div.sk-container {/* jupyter's `normalize.less` sets `[hidden] { display: none; }` but bootstrap.min.css set `[hidden] { display: none !important; }` so we also need the `!important` here to be able to override the default hidden behavior on the sphinx rendered scikit-learn.org. See: https://github.com/scikit-learn/scikit-learn/issues/21755 */display: inline-block !important;position: relative;}#sk-container-id-2 div.sk-text-repr-fallback {display: none;}</style><div id=\"sk-container-id-2\" class=\"sk-top-container\"><div class=\"sk-text-repr-fallback\"><pre>FastKernelSurvivalSVM(alpha=0.97, kernel=&#x27;precomputed&#x27;, max_iter=1000,\n",
       "                      optimizer=&#x27;rbtree&#x27;, random_state=42, tol=1e-06)</pre><b>In a Jupyter environment, please rerun this cell to show the HTML representation or trust the notebook. <br />On GitHub, the HTML representation is unable to render, please try loading this page with nbviewer.org.</b></div><div class=\"sk-container\" hidden><div class=\"sk-item\"><div class=\"sk-estimator sk-toggleable\"><input class=\"sk-toggleable__control sk-hidden--visually\" id=\"sk-estimator-id-2\" type=\"checkbox\" checked><label for=\"sk-estimator-id-2\" class=\"sk-toggleable__label sk-toggleable__label-arrow\">FastKernelSurvivalSVM</label><div class=\"sk-toggleable__content\"><pre>FastKernelSurvivalSVM(alpha=0.97, kernel=&#x27;precomputed&#x27;, max_iter=1000,\n",
       "                      optimizer=&#x27;rbtree&#x27;, random_state=42, tol=1e-06)</pre></div></div></div></div></div>"
      ],
      "text/plain": [
       "FastKernelSurvivalSVM(alpha=0.97, kernel='precomputed', max_iter=1000,\n",
       "                      optimizer='rbtree', random_state=42, tol=1e-06)"
      ]
     },
     "execution_count": 23,
     "metadata": {},
     "output_type": "execute_result"
    }
   ],
   "source": [
    "kgcv_cli.best_estimator_"
   ]
  }
 ],
 "metadata": {
  "kernelspec": {
   "display_name": "Python 3",
   "language": "python",
   "name": "python3"
  },
  "language_info": {
   "codemirror_mode": {
    "name": "ipython",
    "version": 3
   },
   "file_extension": ".py",
   "mimetype": "text/x-python",
   "name": "python",
   "nbconvert_exporter": "python",
   "pygments_lexer": "ipython3",
   "version": "3.10.7"
  },
  "orig_nbformat": 4,
  "vscode": {
   "interpreter": {
    "hash": "afb734500600fd355917ca529030176ea0ca205570884b88f2f6f7d791fd3fbe"
   }
  }
 },
 "nbformat": 4,
 "nbformat_minor": 2
}
