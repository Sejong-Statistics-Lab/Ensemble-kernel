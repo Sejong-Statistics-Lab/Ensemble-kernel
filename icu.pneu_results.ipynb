{
 "cells": [
  {
   "cell_type": "code",
   "execution_count": 1,
   "metadata": {},
   "outputs": [],
   "source": [
    "import copy\n",
    "\n",
    "import numpy as np\n",
    "import pandas as pd\n",
    "from itertools import combinations\n",
    "\n",
    "from sklearn.model_selection import KFold\n",
    "from skopt.space import Real\n",
    "\n",
    "import sys\n",
    "sys.path.append('G:/내 드라이브/ensemble kernel')\n",
    "\n",
    "from Kernel_Function_3 import split_data, prepare_response_variable, c_index_kernel_type"
   ]
  },
  {
   "cell_type": "markdown",
   "metadata": {},
   "source": [
    "## Preprocessing"
   ]
  },
  {
   "cell_type": "code",
   "execution_count": 64,
   "metadata": {},
   "outputs": [
    {
     "data": {
      "text/html": [
       "<div>\n",
       "<style scoped>\n",
       "    .dataframe tbody tr th:only-of-type {\n",
       "        vertical-align: middle;\n",
       "    }\n",
       "\n",
       "    .dataframe tbody tr th {\n",
       "        vertical-align: top;\n",
       "    }\n",
       "\n",
       "    .dataframe thead th {\n",
       "        text-align: right;\n",
       "    }\n",
       "</style>\n",
       "<table border=\"1\" class=\"dataframe\">\n",
       "  <thead>\n",
       "    <tr style=\"text-align: right;\">\n",
       "      <th></th>\n",
       "      <th>Status</th>\n",
       "      <th>adm.cens.exit</th>\n",
       "      <th>Age</th>\n",
       "      <th>OS</th>\n",
       "      <th>event_3</th>\n",
       "      <th>pneu</th>\n",
       "      <th>Sex</th>\n",
       "    </tr>\n",
       "  </thead>\n",
       "  <tbody>\n",
       "    <tr>\n",
       "      <th>0</th>\n",
       "      <td>1</td>\n",
       "      <td>421.0</td>\n",
       "      <td>62.533071</td>\n",
       "      <td>3.0</td>\n",
       "      <td>1</td>\n",
       "      <td>0</td>\n",
       "      <td>0</td>\n",
       "    </tr>\n",
       "    <tr>\n",
       "      <th>1</th>\n",
       "      <td>1</td>\n",
       "      <td>545.0</td>\n",
       "      <td>75.341530</td>\n",
       "      <td>5.0</td>\n",
       "      <td>1</td>\n",
       "      <td>0</td>\n",
       "      <td>0</td>\n",
       "    </tr>\n",
       "    <tr>\n",
       "      <th>2</th>\n",
       "      <td>1</td>\n",
       "      <td>372.0</td>\n",
       "      <td>76.103825</td>\n",
       "      <td>88.0</td>\n",
       "      <td>1</td>\n",
       "      <td>0</td>\n",
       "      <td>1</td>\n",
       "    </tr>\n",
       "    <tr>\n",
       "      <th>3</th>\n",
       "      <td>1</td>\n",
       "      <td>373.0</td>\n",
       "      <td>39.789617</td>\n",
       "      <td>8.0</td>\n",
       "      <td>1</td>\n",
       "      <td>0</td>\n",
       "      <td>0</td>\n",
       "    </tr>\n",
       "    <tr>\n",
       "      <th>4</th>\n",
       "      <td>1</td>\n",
       "      <td>372.0</td>\n",
       "      <td>19.173800</td>\n",
       "      <td>25.0</td>\n",
       "      <td>1</td>\n",
       "      <td>0</td>\n",
       "      <td>1</td>\n",
       "    </tr>\n",
       "    <tr>\n",
       "      <th>...</th>\n",
       "      <td>...</td>\n",
       "      <td>...</td>\n",
       "      <td>...</td>\n",
       "      <td>...</td>\n",
       "      <td>...</td>\n",
       "      <td>...</td>\n",
       "      <td>...</td>\n",
       "    </tr>\n",
       "    <tr>\n",
       "      <th>1416</th>\n",
       "      <td>1</td>\n",
       "      <td>413.0</td>\n",
       "      <td>61.442600</td>\n",
       "      <td>21.0</td>\n",
       "      <td>1</td>\n",
       "      <td>0</td>\n",
       "      <td>0</td>\n",
       "    </tr>\n",
       "    <tr>\n",
       "      <th>1417</th>\n",
       "      <td>1</td>\n",
       "      <td>445.0</td>\n",
       "      <td>69.851059</td>\n",
       "      <td>21.0</td>\n",
       "      <td>1</td>\n",
       "      <td>0</td>\n",
       "      <td>1</td>\n",
       "    </tr>\n",
       "    <tr>\n",
       "      <th>1418</th>\n",
       "      <td>1</td>\n",
       "      <td>537.0</td>\n",
       "      <td>60.232570</td>\n",
       "      <td>49.0</td>\n",
       "      <td>1</td>\n",
       "      <td>0</td>\n",
       "      <td>1</td>\n",
       "    </tr>\n",
       "    <tr>\n",
       "      <th>1419</th>\n",
       "      <td>1</td>\n",
       "      <td>555.0</td>\n",
       "      <td>59.521858</td>\n",
       "      <td>35.0</td>\n",
       "      <td>1</td>\n",
       "      <td>0</td>\n",
       "      <td>1</td>\n",
       "    </tr>\n",
       "    <tr>\n",
       "      <th>1420</th>\n",
       "      <td>1</td>\n",
       "      <td>465.0</td>\n",
       "      <td>73.958058</td>\n",
       "      <td>3.0</td>\n",
       "      <td>1</td>\n",
       "      <td>0</td>\n",
       "      <td>0</td>\n",
       "    </tr>\n",
       "  </tbody>\n",
       "</table>\n",
       "<p>1421 rows × 7 columns</p>\n",
       "</div>"
      ],
      "text/plain": [
       "      Status  adm.cens.exit        Age    OS event_3 pneu Sex\n",
       "0          1          421.0  62.533071   3.0       1    0   0\n",
       "1          1          545.0  75.341530   5.0       1    0   0\n",
       "2          1          372.0  76.103825  88.0       1    0   1\n",
       "3          1          373.0  39.789617   8.0       1    0   0\n",
       "4          1          372.0  19.173800  25.0       1    0   1\n",
       "...      ...            ...        ...   ...     ...  ...  ..\n",
       "1416       1          413.0  61.442600  21.0       1    0   0\n",
       "1417       1          445.0  69.851059  21.0       1    0   1\n",
       "1418       1          537.0  60.232570  49.0       1    0   1\n",
       "1419       1          555.0  59.521858  35.0       1    0   1\n",
       "1420       1          465.0  73.958058   3.0       1    0   0\n",
       "\n",
       "[1421 rows x 7 columns]"
      ]
     },
     "execution_count": 64,
     "metadata": {},
     "output_type": "execute_result"
    }
   ],
   "source": [
    "data = pd.read_csv(\"icu_pneu.csv\")\n",
    "\n",
    "data['OS'] = data['stop'] - data['start']\n",
    "\n",
    "df = data.drop(columns=['Unnamed: 0','id', 'start', 'stop']).dropna()\n",
    "df.rename(columns = {'status':'Status', 'time':'OS', 'age':'Age', 'sex':'Sex'}, inplace=True)\n",
    "df.replace({'Sex' : {'F':0, 'M':1}}, inplace=True)\n",
    "\n",
    "columns_to_convert = ['event','pneu','Sex']\n",
    "df[columns_to_convert] = df[columns_to_convert].astype('category')\n",
    "\n",
    "#onehot encode\n",
    "df_onehot = pd.get_dummies(df, drop_first=True).rename(columns={'Sex_1':'Sex', 'pneu_1':'pneu'})\n",
    "\n",
    "columns_to_convert = ['event_3','pneu','Sex']\n",
    "df_onehot[columns_to_convert] = df_onehot[columns_to_convert].astype('category')\n",
    "df_onehot"
   ]
  },
  {
   "cell_type": "markdown",
   "metadata": {},
   "source": [
    "### K-fold setting"
   ]
  },
  {
   "cell_type": "code",
   "execution_count": 65,
   "metadata": {},
   "outputs": [],
   "source": [
    "cv = KFold(n_splits=5, shuffle=True, random_state=36)\n",
    "\n",
    "param_grid = {'alpha': 2. ** np.arange(-12, 13, 2)}\n",
    "param_space = {'alpha': Real(1e-6, 1e+6, 'log-uniform'),}"
   ]
  },
  {
   "cell_type": "markdown",
   "metadata": {},
   "source": [
    "### Selection of 100 random state numbers"
   ]
  },
  {
   "cell_type": "code",
   "execution_count": 67,
   "metadata": {},
   "outputs": [],
   "source": [
    "import random\n",
    "\n",
    "with open(\"random_state_100.txt\", \"r\") as file:\n",
    "    random_state=file.read()\n",
    "    \n",
    "random_state=random_state.split(\"\\n\")\n",
    "random_state=[int(x) for x in random_state if x]"
   ]
  },
  {
   "cell_type": "markdown",
   "metadata": {},
   "source": [
    "## Scenario 1"
   ]
  },
  {
   "cell_type": "markdown",
   "metadata": {},
   "source": [
    "### Check results by Kernel type"
   ]
  },
  {
   "cell_type": "markdown",
   "metadata": {},
   "source": [
    "Linear Kernel"
   ]
  },
  {
   "cell_type": "code",
   "execution_count": 138,
   "metadata": {},
   "outputs": [],
   "source": [
    "linear_results=pd.DataFrame()\n",
    "\n",
    "linear_results['train_C_index']=[]\n",
    "linear_results['test_C_index']=[]"
   ]
  },
  {
   "cell_type": "code",
   "execution_count": null,
   "metadata": {},
   "outputs": [],
   "source": [
    "kernel_type = 'linear'\n",
    "\n",
    "for i in range(100):\n",
    "    \n",
    "    x_train, x_test, target_train, target_test = split_data(df_onehot, randomState = random_state[i])\n",
    "\n",
    "    y_train = prepare_response_variable(target_train)\n",
    "    y_test = prepare_response_variable(target_test)\n",
    "\n",
    "    results = c_index_kernel_type(x_train, y_train, x_test, y_test, param_grid, param_space, cv, keywords = ['Age', 'Sex'], type = kernel_type)\n",
    "    \n",
    "    linear_results.loc[i] = [results[0], results[1]]\n",
    "\n",
    "linear_results.to_csv(\"icu.pneu_linear.csv\", index = False, encoding = 'cp949')\n"
   ]
  },
  {
   "cell_type": "markdown",
   "metadata": {},
   "source": [
    "Clinical Kernel"
   ]
  },
  {
   "cell_type": "code",
   "execution_count": 140,
   "metadata": {},
   "outputs": [],
   "source": [
    "clinical_results=pd.DataFrame()\n",
    "\n",
    "clinical_results['train_C_index']=[]\n",
    "clinical_results['test_C_index']=[]"
   ]
  },
  {
   "cell_type": "code",
   "execution_count": null,
   "metadata": {},
   "outputs": [],
   "source": [
    "kernel_type = 'clinical'\n",
    "\n",
    "for i in range(100):\n",
    "    \n",
    "    x_train, x_test, target_train, target_test = split_data(df_onehot, randomState = random_state[i])\n",
    "\n",
    "    y_train = prepare_response_variable(target_train)\n",
    "    y_test = prepare_response_variable(target_test)\n",
    "\n",
    "    results = c_index_kernel_type(x_train, y_train, x_test, y_test, param_grid, param_space, cv, keywords = ['Age', 'Sex'], type = kernel_type)\n",
    "    \n",
    "    clinical_results.loc[i] = [results[0], results[1]]\n",
    "\n",
    "clinical_results.to_csv(\"icu.pneu_clinical.csv\", index = False, encoding = 'cp949')"
   ]
  },
  {
   "cell_type": "markdown",
   "metadata": {},
   "source": [
    "Ensemble Cox Kernel"
   ]
  },
  {
   "cell_type": "code",
   "execution_count": 142,
   "metadata": {},
   "outputs": [],
   "source": [
    "ensemble_cox_results=pd.DataFrame()\n",
    "\n",
    "ensemble_cox_results['train_C_index']=[]\n",
    "ensemble_cox_results['test_C_index']=[]"
   ]
  },
  {
   "cell_type": "code",
   "execution_count": null,
   "metadata": {},
   "outputs": [],
   "source": [
    "kernel_type = 'ensemble_cox'\n",
    "\n",
    "for i in range(100):\n",
    "    \n",
    "    x_train, x_test, target_train, target_test = split_data(df_onehot, randomState = random_state[i])\n",
    "\n",
    "    y_train = prepare_response_variable(target_train)\n",
    "    y_test = prepare_response_variable(target_test)\n",
    "\n",
    "    results = c_index_kernel_type(x_train, y_train, x_test, y_test, param_grid, param_space, cv, keywords = ['Age', 'Sex'], type = kernel_type)\n",
    "    \n",
    "    ensemble_cox_results.loc[i] = [results[0], results[1]]\n",
    "\n",
    "ensemble_cox_results.to_csv(\"icu.pneu_cox.csv\", index = False, encoding = 'cp949')"
   ]
  },
  {
   "cell_type": "markdown",
   "metadata": {},
   "source": [
    "#### Ensemble AFT"
   ]
  },
  {
   "cell_type": "code",
   "execution_count": 144,
   "metadata": {},
   "outputs": [],
   "source": [
    "ensemble_aft_results=pd.DataFrame()\n",
    "\n",
    "ensemble_aft_results['train_C_index']=[]\n",
    "ensemble_aft_results['test_C_index']=[]"
   ]
  },
  {
   "cell_type": "code",
   "execution_count": null,
   "metadata": {},
   "outputs": [],
   "source": [
    "kernel_type = 'ensemble_aft'\n",
    "\n",
    "for i in range(100):\n",
    "    \n",
    "    x_train, x_test, target_train, target_test = split_data(df_onehot, randomState = random_state[i])\n",
    "\n",
    "    y_train = prepare_response_variable(target_train)\n",
    "    y_test = prepare_response_variable(target_test)\n",
    "\n",
    "    results = c_index_kernel_type(x_train, y_train, x_test, y_test, param_grid, param_space, cv, keywords = ['Age', 'Sex'], type = kernel_type)\n",
    "    \n",
    "    ensemble_aft_results.loc[i] = [results[0], results[1]]\n",
    "\n",
    "ensemble_aft_results.to_csv(\"icu.pneu_aft.csv\", index = False, encoding = 'cp949')"
   ]
  },
  {
   "cell_type": "markdown",
   "metadata": {},
   "source": [
    "### Result"
   ]
  },
  {
   "cell_type": "code",
   "execution_count": 146,
   "metadata": {},
   "outputs": [],
   "source": [
    "linear_results = pd.read_csv('icu.pneu_linear.csv')\n",
    "clinical_results = pd.read_csv('icu.pneu_clinical.csv')\n",
    "ensemble_cox_results = pd.read_csv('icu.pneu_cox.csv')\n",
    "ensemble_aft_results = pd.read_csv('icu.pneu_aft.csv')"
   ]
  },
  {
   "cell_type": "markdown",
   "metadata": {},
   "source": [
    "### The value of C-index"
   ]
  },
  {
   "cell_type": "code",
   "execution_count": null,
   "metadata": {},
   "outputs": [],
   "source": [
    "print(round(np.mean(linear_results['train_C_index']),4))\n",
    "print(round(np.std(linear_results['train_C_index']),4))\n",
    "print(round(np.mean(linear_results['test_C_index']),4))\n",
    "print(round(np.std(linear_results['test_C_index']),4))"
   ]
  },
  {
   "cell_type": "code",
   "execution_count": null,
   "metadata": {},
   "outputs": [],
   "source": [
    "print(round(np.mean(clinical_results['train_C_index']),4))\n",
    "print(round(np.std(clinical_results['train_C_index']),4))\n",
    "print(round(np.mean(clinical_results['test_C_index']),4))\n",
    "print(round(np.std(clinical_results['test_C_index']),4))"
   ]
  },
  {
   "cell_type": "code",
   "execution_count": null,
   "metadata": {},
   "outputs": [],
   "source": [
    "print(round(np.mean(ensemble_cox_results['train_C_index']),4))\n",
    "print(round(np.std(ensemble_cox_results['train_C_index']),4))\n",
    "print(round(np.mean(ensemble_cox_results['test_C_index']),4))\n",
    "print(round(np.std(ensemble_cox_results['test_C_index']),4))"
   ]
  },
  {
   "cell_type": "code",
   "execution_count": null,
   "metadata": {},
   "outputs": [],
   "source": [
    "print(round(np.mean(ensemble_aft_results['train_C_index']),4))\n",
    "print(round(np.std(ensemble_aft_results['train_C_index']),4))\n",
    "print(round(np.mean(ensemble_aft_results['test_C_index']),4))\n",
    "print(round(np.std(ensemble_aft_results['test_C_index']),4))"
   ]
  },
  {
   "cell_type": "markdown",
   "metadata": {},
   "source": [
    "## Scenario 2"
   ]
  },
  {
   "cell_type": "code",
   "execution_count": 71,
   "metadata": {},
   "outputs": [],
   "source": [
    "# Remaining variable results from 100 runs\n",
    "cox_remaining_variable=pd.DataFrame()\n",
    "\n",
    "cox_remaining_variable['variable']=[]"
   ]
  },
  {
   "cell_type": "markdown",
   "metadata": {},
   "source": [
    "### CV of selection of variables"
   ]
  },
  {
   "cell_type": "code",
   "execution_count": null,
   "metadata": {},
   "outputs": [],
   "source": [
    "for i in range(100):\n",
    "    x_train, x_test, target_train, target_test = split_data(df_onehot, randomState = random_state[i])\n",
    "\n",
    "    y_train = prepare_response_variable(target_train)\n",
    "    y_test = prepare_response_variable(target_test)\n",
    "\n",
    "    # Separating OS and Status\n",
    "    drop = x_train[['Sex', 'Age', 'OS', 'Status']]\n",
    "    x_train_drop = x_train.drop(columns=['Sex', 'Age', 'OS','Status'])\n",
    "\n",
    "    # Save column names of a DataFrame into a list\n",
    "    columns = x_train_drop.columns\n",
    "\n",
    "    column_groups = []\n",
    "\n",
    "    for i in range(len(columns)):\n",
    "        # Generate all combinations of columns taken i+1 at a time\n",
    "        all_column_combinations = list(combinations(columns, i+1))\n",
    "\n",
    "        # Create a DataFrame for each combination\n",
    "        for column_combination in all_column_combinations:\n",
    "            selected_columns = list(column_combination)\n",
    "            sub_train1 = x_train_drop[selected_columns]\n",
    "            sub_train2 = pd.concat([sub_train1, drop], axis=1)\n",
    "            column_groups.append(sub_train2)\n",
    "    \n",
    "    num_groups = 3\n",
    "    best_cindex = []\n",
    "\n",
    "    for i in range(len(column_groups)):\n",
    "        x_groups = []\n",
    "        train = column_groups[i].sample(frac=1).reset_index(drop=True)\n",
    "        \n",
    "        censored = train[train['Status'] == 0]  # Extract rows with a value of 0\n",
    "        uncensored = train[train['Status'] == 1]  # Extract rows with a value of 1\n",
    "\n",
    "        group_size1 = len(censored) // num_groups\n",
    "        group_size2 = len(uncensored) // num_groups\n",
    "\n",
    "        # Split train data into groups\n",
    "        for i in range(num_groups):\n",
    "                \n",
    "            if i < num_groups - 1:\n",
    "                # Adjusting the censoring ratio\n",
    "                group1 = censored.iloc[i * group_size1:(i + 1) * group_size1]\n",
    "                group2 = uncensored.iloc[i * group_size2:(i + 1) * group_size2]\n",
    "\n",
    "                group = pd.concat([group1, group2], ignore_index=True)\n",
    "            else:\n",
    "                group1 = censored.iloc[i * group_size1:]\n",
    "                group2 = uncensored.iloc[i * group_size2:]\n",
    "\n",
    "                group = pd.concat([group1, group2], ignore_index=True)\n",
    "    \n",
    "            x_groups.append(group)\n",
    "\n",
    "        cindex = []\n",
    "\n",
    "        for i in range(len(x_groups)):\n",
    "\n",
    "            temp = []\n",
    "            for j in range(len(x_groups)):\n",
    "                if i != j:\n",
    "                    temp.append(x_groups[j])\n",
    "            # train = train data(One out of the equally divided segments, excluding one)\n",
    "            train = pd.concat(temp, ignore_index=True)\n",
    "\n",
    "            # validation = validation data(One of the equally divided segments)\n",
    "            validation = x_groups[i]\n",
    "            \n",
    "            train_target = train[['Status','OS']]\n",
    "            test_target = validation[['Status','OS']]\n",
    "\n",
    "            train_y = prepare_response_variable(train_target)\n",
    "            test_y = prepare_response_variable(test_target)\n",
    "            #Define data -> train, train_y, validation,  test_y\n",
    "\n",
    "            result = c_index_kernel_type(train, train_y, validation, test_y, param_grid, param_space, cv, keywords = ['Age', 'Sex'], type = 'ensemble_cox')\n",
    "            cindex.append(result[1])\n",
    "\n",
    "        #best_cindex: Store all validation c-index values for each selected variable as a list\n",
    "        best_cindex.append(np.mean(cindex))\n",
    "\n",
    "    #max_num: Index number of the best c-index in the list\n",
    "    max_num = best_cindex.index(max(best_cindex))\n",
    "\n",
    "    #train_column: Selected variables for the best c-index\n",
    "    train_column = column_groups[max_num].columns\n",
    "\n",
    "    cox_remaining_variable.loc[i] = [list(train_column)]\n",
    "    \n",
    "cox_remaining_variable.to_csv(\"icu.pneu_cox_remaining_variables.csv\", index = False, encoding = 'cp949')"
   ]
  },
  {
   "cell_type": "markdown",
   "metadata": {},
   "source": [
    "### C-index by Kernel type"
   ]
  },
  {
   "cell_type": "markdown",
   "metadata": {},
   "source": [
    "Linear Kernel"
   ]
  },
  {
   "cell_type": "code",
   "execution_count": 79,
   "metadata": {},
   "outputs": [],
   "source": [
    "linear_results=pd.DataFrame()\n",
    "\n",
    "linear_results['train_C_index']=[]\n",
    "linear_results['test_C_index']=[]"
   ]
  },
  {
   "cell_type": "code",
   "execution_count": null,
   "metadata": {},
   "outputs": [],
   "source": [
    "kernel_type = 'linear'\n",
    "\n",
    "for i in range(100):\n",
    "    variables = eval(pd.read_csv(\"icu.pneu_cox_remaining_variables.csv\")['variable'][i])\n",
    "\n",
    "    df_onehot_re = df_onehot[variables]\n",
    "    \n",
    "    x_train, x_test, target_train, target_test = split_data(df_onehot_re, randomState = random_state[i])\n",
    "\n",
    "    y_train = prepare_response_variable(target_train)\n",
    "    y_test = prepare_response_variable(target_test)\n",
    "\n",
    "    results = c_index_kernel_type(x_train, y_train, x_test, y_test, param_grid, param_space, cv, keywords = ['Age', 'Sex'], type = kernel_type)\n",
    "    \n",
    "    linear_results.loc[i] = [results[0], results[1]]\n",
    "\n",
    "linear_results.to_csv(\"icu.pneu_cox_linear.csv\", index = False, encoding = 'cp949')\n"
   ]
  },
  {
   "cell_type": "markdown",
   "metadata": {},
   "source": [
    "Clinical Kernel"
   ]
  },
  {
   "cell_type": "code",
   "execution_count": 90,
   "metadata": {},
   "outputs": [],
   "source": [
    "clinical_results=pd.DataFrame()\n",
    "\n",
    "clinical_results['train_C_index']=[]\n",
    "clinical_results['test_C_index']=[]"
   ]
  },
  {
   "cell_type": "code",
   "execution_count": null,
   "metadata": {},
   "outputs": [],
   "source": [
    "kernel_type = 'clinical'\n",
    "\n",
    "for i in range(100):\n",
    "    variables = eval(pd.read_csv(\"icu.pneu_cox_remaining_variables.csv\")['variable'][i])\n",
    "\n",
    "    df_onehot_re = df_onehot[variables]\n",
    "    \n",
    "    x_train, x_test, target_train, target_test = split_data(df_onehot_re, randomState = random_state[i])\n",
    "\n",
    "    y_train = prepare_response_variable(target_train)\n",
    "    y_test = prepare_response_variable(target_test)\n",
    "\n",
    "    results = c_index_kernel_type(x_train, y_train, x_test, y_test, param_grid, param_space, cv, keywords = ['Age', 'Sex'], type = kernel_type)\n",
    "    \n",
    "    clinical_results.loc[i] = [results[0], results[1]]\n",
    "\n",
    "clinical_results.to_csv(\"icu.pneu_cox_clinical.csv\", index = False, encoding = 'cp949')"
   ]
  },
  {
   "cell_type": "markdown",
   "metadata": {},
   "source": [
    "Ensemble Cox Kernel"
   ]
  },
  {
   "cell_type": "code",
   "execution_count": 92,
   "metadata": {},
   "outputs": [],
   "source": [
    "ensemble_cox_results=pd.DataFrame()\n",
    "\n",
    "ensemble_cox_results['train_C_index']=[]\n",
    "ensemble_cox_results['test_C_index']=[]"
   ]
  },
  {
   "cell_type": "code",
   "execution_count": null,
   "metadata": {},
   "outputs": [],
   "source": [
    "kernel_type = 'ensemble_cox'\n",
    "\n",
    "for i in range(100):\n",
    "    variables = eval(pd.read_csv(\"icu.pneu_cox_remaining_variables.csv\")['variable'][i])\n",
    "\n",
    "    df_onehot_re = df_onehot[variables]\n",
    "    \n",
    "    x_train, x_test, target_train, target_test = split_data(df_onehot_re, randomState = random_state[i])\n",
    "\n",
    "    y_train = prepare_response_variable(target_train)\n",
    "    y_test = prepare_response_variable(target_test)\n",
    "\n",
    "    results = c_index_kernel_type(x_train, y_train, x_test, y_test, param_grid, param_space, cv, keywords = ['Age', 'Sex'], type = kernel_type)\n",
    "    \n",
    "    ensemble_cox_results.loc[i] = [results[0], results[1]]\n",
    "    \n",
    "ensemble_cox_results.to_csv(\"icu.pneu_cox_cox.csv\", index = False, encoding = 'cp949')"
   ]
  },
  {
   "cell_type": "markdown",
   "metadata": {},
   "source": [
    "Ensemble AFT Kernel"
   ]
  },
  {
   "cell_type": "code",
   "execution_count": 95,
   "metadata": {},
   "outputs": [],
   "source": [
    "ensemble_aft_results=pd.DataFrame()\n",
    "\n",
    "ensemble_aft_results['train_C_index']=[]\n",
    "ensemble_aft_results['test_C_index']=[]"
   ]
  },
  {
   "cell_type": "code",
   "execution_count": null,
   "metadata": {},
   "outputs": [],
   "source": [
    "kernel_type = 'ensemble_aft'\n",
    "\n",
    "for i in range(100):\n",
    "    variables = eval(pd.read_csv(\"icu.pneu_cox_remaining_variables.csv\")['variable'][i])\n",
    "\n",
    "    df_onehot_re = df_onehot[variables]\n",
    "    \n",
    "    x_train, x_test, target_train, target_test = split_data(df_onehot_re, randomState = random_state[i])\n",
    "\n",
    "    y_train = prepare_response_variable(target_train)\n",
    "    y_test = prepare_response_variable(target_test)\n",
    "\n",
    "    results = c_index_kernel_type(x_train, y_train, x_test, y_test, param_grid, param_space, cv, keywords = ['Age', 'Sex'], type = kernel_type)\n",
    "    \n",
    "    ensemble_aft_results.loc[i] = [results[0], results[1]]\n",
    "\n",
    "ensemble_aft_results.to_csv(\"icu.pneu_cox_aft.csv\", index = False, encoding = 'cp949')"
   ]
  },
  {
   "cell_type": "markdown",
   "metadata": {},
   "source": [
    "#### Result"
   ]
  },
  {
   "cell_type": "code",
   "execution_count": 97,
   "metadata": {},
   "outputs": [],
   "source": [
    "linear_results = pd.read_csv('icu.pneu_cox_linear.csv')\n",
    "clinical_results = pd.read_csv('icu.pneu_cox_clinical.csv')\n",
    "ensemble_cox_results = pd.read_csv('icu.pneu_cox_cox.csv')\n",
    "ensemble_aft_results = pd.read_csv('icu.pneu_cox_aft.csv')"
   ]
  },
  {
   "cell_type": "markdown",
   "metadata": {},
   "source": [
    "#### Count of selections for remaining variables"
   ]
  },
  {
   "cell_type": "code",
   "execution_count": null,
   "metadata": {},
   "outputs": [],
   "source": [
    "remaining_variables_all=[]\n",
    "for i in range(0,100):\n",
    "    remaining_variables_all+=eval(pd.read_csv(\"icu.pneu_cox_remaining_variables.csv\")['variable'][i])\n",
    "\n",
    "element_counts = {}\n",
    "\n",
    "for element in remaining_variables_all:\n",
    "    if element in element_counts:\n",
    "        element_counts[element] += 1\n",
    "    else:\n",
    "        element_counts[element] = 1\n",
    "\n",
    "print(element_counts)"
   ]
  },
  {
   "cell_type": "markdown",
   "metadata": {},
   "source": [
    "### The value of C-index"
   ]
  },
  {
   "cell_type": "code",
   "execution_count": null,
   "metadata": {},
   "outputs": [],
   "source": [
    "print(round(np.mean(linear_results['train_C_index']),4))\n",
    "print(round(np.std(linear_results['train_C_index']),4))\n",
    "print(round(np.mean(linear_results['test_C_index']),4))\n",
    "print(round(np.std(linear_results['test_C_index']),4))"
   ]
  },
  {
   "cell_type": "code",
   "execution_count": null,
   "metadata": {},
   "outputs": [],
   "source": [
    "print(round(np.mean(clinical_results['train_C_index']),4))\n",
    "print(round(np.std(clinical_results['train_C_index']),4))\n",
    "print(round(np.mean(clinical_results['test_C_index']),4))\n",
    "print(round(np.std(clinical_results['test_C_index']),4))"
   ]
  },
  {
   "cell_type": "code",
   "execution_count": null,
   "metadata": {},
   "outputs": [],
   "source": [
    "print(round(np.mean(ensemble_cox_results['train_C_index']),4))\n",
    "print(round(np.std(ensemble_cox_results['train_C_index']),4))\n",
    "print(round(np.mean(ensemble_cox_results['test_C_index']),4))\n",
    "print(round(np.std(ensemble_cox_results['test_C_index']),4))"
   ]
  },
  {
   "cell_type": "code",
   "execution_count": null,
   "metadata": {},
   "outputs": [],
   "source": [
    "print(round(np.mean(ensemble_aft_results['train_C_index']),4))\n",
    "print(round(np.std(ensemble_aft_results['train_C_index']),4))\n",
    "print(round(np.mean(ensemble_aft_results['test_C_index']),4))\n",
    "print(round(np.std(ensemble_aft_results['test_C_index']),4))"
   ]
  },
  {
   "cell_type": "markdown",
   "metadata": {},
   "source": [
    "## Scenario 3"
   ]
  },
  {
   "cell_type": "code",
   "execution_count": 104,
   "metadata": {},
   "outputs": [],
   "source": [
    "# Remaining variable results from 100 runs\n",
    "aft_remaining_variable=pd.DataFrame()\n",
    "\n",
    "aft_remaining_variable['variable']=[]"
   ]
  },
  {
   "cell_type": "markdown",
   "metadata": {},
   "source": [
    "### CV of selection of variables"
   ]
  },
  {
   "cell_type": "code",
   "execution_count": null,
   "metadata": {},
   "outputs": [],
   "source": [
    "for i in range(100):\n",
    "    x_train, x_test, target_train, target_test = split_data(df_onehot, randomState = random_state[i])\n",
    "\n",
    "    y_train = prepare_response_variable(target_train)\n",
    "    y_test = prepare_response_variable(target_test)\n",
    "\n",
    "    # Separating OS and Status\n",
    "    drop = x_train[['Sex', 'Age', 'OS','Status']]\n",
    "    x_train_drop = x_train.drop(columns=['Sex', 'Age', 'OS','Status'])\n",
    "\n",
    "    # Save column names of a DataFrame into a list\n",
    "    columns = x_train_drop.columns\n",
    "\n",
    "    column_groups = []\n",
    "\n",
    "    for i in range(len(columns)):\n",
    "        # Generate all combinations of columns taken i+1 at a time\n",
    "        all_column_combinations = list(combinations(columns, i+1))\n",
    "\n",
    "        # Create a DataFrame for each combination\n",
    "        for column_combination in all_column_combinations:\n",
    "            selected_columns = list(column_combination)\n",
    "            sub_train1 = x_train_drop[selected_columns]\n",
    "            sub_train2 = pd.concat([sub_train1, drop], axis=1)\n",
    "            column_groups.append(sub_train2)\n",
    "    \n",
    "    num_groups = 3\n",
    "    best_cindex = []\n",
    "\n",
    "    for i in range(len(column_groups)):\n",
    "        x_groups = []\n",
    "        train = column_groups[i].sample(frac=1).reset_index(drop=True)\n",
    "        \n",
    "        censored = train[train['Status'] == 0]  # Extract rows with a value of 0\n",
    "        uncensored = train[train['Status'] == 1]  # Extract rows with a value of 1\n",
    "\n",
    "        group_size1 = len(censored) // num_groups\n",
    "        group_size2 = len(uncensored) // num_groups\n",
    "\n",
    "        # Splitting the train data into groups\n",
    "        for i in range(num_groups):\n",
    "\n",
    "            if i < num_groups - 1:\n",
    "                # Adjusting the censoring ratio\n",
    "                group1 = censored.iloc[i * group_size1:(i + 1) * group_size1]\n",
    "                group2 = uncensored.iloc[i * group_size2:(i + 1) * group_size2]\n",
    "\n",
    "                group = pd.concat([group1, group2], ignore_index=True)\n",
    "            else:\n",
    "                group1 = censored.iloc[i * group_size1:]\n",
    "                group2 = uncensored.iloc[i * group_size2:]\n",
    "\n",
    "                group = pd.concat([group1, group2], ignore_index=True)\n",
    "    \n",
    "            x_groups.append(group)\n",
    "\n",
    "        cindex = []\n",
    "\n",
    "        for i in range(len(x_groups)):\n",
    "\n",
    "            temp = []\n",
    "            for j in range(len(x_groups)):\n",
    "                if i != j:\n",
    "                    temp.append(x_groups[j])\n",
    "            #train = train data(One out of the equally divided segments, excluding one)\n",
    "            train=pd.concat(temp, ignore_index=True)\n",
    "\n",
    "            #validation = validation data(One of the equally divided segments)\n",
    "            validation = x_groups[i]\n",
    "            \n",
    "            train_target=train[['Status','OS']]\n",
    "            test_target=validation[['Status','OS']]\n",
    "\n",
    "            train_y=prepare_response_variable(train_target)\n",
    "            test_y=prepare_response_variable(test_target)\n",
    "            #Define data -> train, train_y, validation,  test_y\n",
    "\n",
    "            result = c_index_kernel_type(train, train_y, validation, test_y, param_grid, param_space, cv, keywords = ['Age', 'Sex'], type = 'ensemble_aft')\n",
    "            cindex.append(result[1])\n",
    "\n",
    "        #best_cindex: Store all validation c-index values for each selected variable as a list\n",
    "        best_cindex.append(np.mean(cindex))\n",
    "\n",
    "    #max_num: Index number of the best c-index in the list\n",
    "    max_num = best_cindex.index(max(best_cindex))\n",
    "\n",
    "    #train_column: Selected variables for the best c-index\n",
    "    train_column = column_groups[max_num].columns\n",
    "    \n",
    "    aft_remaining_variable.loc[i] = [list(train_column)]\n",
    "\n",
    "aft_remaining_variable.to_csv(\"icu.pneu_aft_remaining_variables.csv\", index = False, encoding = 'cp949')"
   ]
  },
  {
   "cell_type": "markdown",
   "metadata": {},
   "source": [
    "### C-index by Kernel type"
   ]
  },
  {
   "cell_type": "markdown",
   "metadata": {},
   "source": [
    "Linear Kernel"
   ]
  },
  {
   "cell_type": "code",
   "execution_count": 135,
   "metadata": {},
   "outputs": [],
   "source": [
    "linear_results=pd.DataFrame()\n",
    "\n",
    "linear_results['train_C_index']=[]\n",
    "linear_results['test_C_index']=[]"
   ]
  },
  {
   "cell_type": "code",
   "execution_count": null,
   "metadata": {},
   "outputs": [],
   "source": [
    "kernel_type = 'linear'\n",
    "\n",
    "for i in range(100):\n",
    "    variables = eval(pd.read_csv(\"icu.pneu_aft_remaining_variables.csv\")['variable'][i])\n",
    "\n",
    "    df_onehot_re = df_onehot[variables]\n",
    "    \n",
    "    x_train, x_test, target_train, target_test = split_data(df_onehot_re, randomState = random_state[i])\n",
    "\n",
    "    y_train = prepare_response_variable(target_train)\n",
    "    y_test = prepare_response_variable(target_test)\n",
    "\n",
    "    results = c_index_kernel_type(x_train, y_train, x_test, y_test, param_grid, param_space, cv, keywords = ['Age', 'Sex'], type = kernel_type)\n",
    "    \n",
    "    linear_results.loc[i] = [results[0], results[1]]\n",
    "\n",
    "linear_results.to_csv(\"icu.pneu_aft_linear.csv\", index = False, encoding = 'cp949')"
   ]
  },
  {
   "cell_type": "markdown",
   "metadata": {},
   "source": [
    "Clinical Kernel"
   ]
  },
  {
   "cell_type": "code",
   "execution_count": 122,
   "metadata": {},
   "outputs": [],
   "source": [
    "clinical_results=pd.DataFrame()\n",
    "\n",
    "clinical_results['train_C_index']=[]\n",
    "clinical_results['test_C_index']=[]"
   ]
  },
  {
   "cell_type": "code",
   "execution_count": null,
   "metadata": {},
   "outputs": [],
   "source": [
    "kernel_type = 'clinical'\n",
    "\n",
    "for i in range(100):\n",
    "    variables = eval(pd.read_csv(\"icu.pneu_aft_remaining_variables.csv\")['variable'][i])\n",
    "\n",
    "    df_onehot_re = df_onehot[variables]\n",
    "    \n",
    "    x_train, x_test, target_train, target_test = split_data(df_onehot_re, randomState = random_state[i])\n",
    "\n",
    "    y_train = prepare_response_variable(target_train)\n",
    "    y_test = prepare_response_variable(target_test)\n",
    "\n",
    "    results = c_index_kernel_type(x_train, y_train, x_test, y_test, param_grid, param_space, cv, keywords = ['Age', 'Sex'], type = kernel_type)\n",
    "    \n",
    "    clinical_results.loc[i] = [results[0], results[1]]\n",
    "\n",
    "clinical_results.to_csv(\"icu.pneu_aft_clinical.csv\", index = False, encoding = 'cp949')"
   ]
  },
  {
   "cell_type": "markdown",
   "metadata": {},
   "source": [
    "Ensemble Cox Kernel"
   ]
  },
  {
   "cell_type": "code",
   "execution_count": 124,
   "metadata": {},
   "outputs": [],
   "source": [
    "ensemble_cox_results=pd.DataFrame()\n",
    "\n",
    "ensemble_cox_results['train_C_index']=[]\n",
    "ensemble_cox_results['test_C_index']=[]"
   ]
  },
  {
   "cell_type": "code",
   "execution_count": null,
   "metadata": {},
   "outputs": [],
   "source": [
    "kernel_type = 'ensemble_cox'\n",
    "\n",
    "for i in range(100):\n",
    "    variables = eval(pd.read_csv(\"icu.pneu_aft_remaining_variables.csv\")['variable'][i])\n",
    "\n",
    "    df_onehot_re = df_onehot[variables]\n",
    "    \n",
    "    x_train, x_test, target_train, target_test = split_data(df_onehot_re, randomState = random_state[i])\n",
    "\n",
    "    y_train = prepare_response_variable(target_train)\n",
    "    y_test = prepare_response_variable(target_test)\n",
    "\n",
    "    results = c_index_kernel_type(x_train, y_train, x_test, y_test, param_grid, param_space, cv, keywords = ['Age', 'Sex'], type = kernel_type)\n",
    "    \n",
    "    ensemble_cox_results.loc[i] = [results[0], results[1]]\n",
    "\n",
    "ensemble_cox_results.to_csv(\"icu.pneu_aft_cox.csv\", index = False, encoding = 'cp949')"
   ]
  },
  {
   "cell_type": "markdown",
   "metadata": {},
   "source": [
    "Ensemble AFT Kernel"
   ]
  },
  {
   "cell_type": "code",
   "execution_count": 126,
   "metadata": {},
   "outputs": [],
   "source": [
    "ensemble_aft_results=pd.DataFrame()\n",
    "\n",
    "ensemble_aft_results['train_C_index']=[]\n",
    "ensemble_aft_results['test_C_index']=[]"
   ]
  },
  {
   "cell_type": "code",
   "execution_count": null,
   "metadata": {},
   "outputs": [],
   "source": [
    "kernel_type = 'ensemble_aft'\n",
    "\n",
    "for i in range(100):\n",
    "    variables = eval(pd.read_csv(\"icu.pneu_aft_remaining_variables.csv\")['variable'][i])\n",
    "\n",
    "    df_onehot_re = df_onehot[variables]\n",
    "    \n",
    "    x_train, x_test, target_train, target_test = split_data(df_onehot_re, randomState = random_state[i])\n",
    "\n",
    "    y_train = prepare_response_variable(target_train)\n",
    "    y_test = prepare_response_variable(target_test)\n",
    "\n",
    "    results = c_index_kernel_type(x_train, y_train, x_test, y_test, param_grid, param_space, cv, keywords = ['Age', 'Sex'], type = kernel_type)\n",
    "    \n",
    "    ensemble_aft_results.loc[i] = [results[0], results[1]]\n",
    "\n",
    "ensemble_aft_results.to_csv(\"icu.pneu_aft_aft.csv\", index = False, encoding = 'cp949')"
   ]
  },
  {
   "cell_type": "markdown",
   "metadata": {},
   "source": [
    "### Result"
   ]
  },
  {
   "cell_type": "code",
   "execution_count": 128,
   "metadata": {},
   "outputs": [],
   "source": [
    "linear_results = pd.read_csv('icu.pneu_aft_linear.csv')\n",
    "clinical_results = pd.read_csv('icu.pneu_aft_clinical.csv')\n",
    "ensemble_cox_results = pd.read_csv('icu.pneu_aft_cox.csv')\n",
    "ensemble_aft_results = pd.read_csv('icu.pneu_aft_aft.csv')"
   ]
  },
  {
   "cell_type": "markdown",
   "metadata": {},
   "source": [
    "##### Count of selections for each remaining variables"
   ]
  },
  {
   "cell_type": "code",
   "execution_count": null,
   "metadata": {},
   "outputs": [],
   "source": [
    "remaining_variables_all=[]\n",
    "for i in range(0,100):\n",
    "    remaining_variables_all += eval(pd.read_csv(\"icu.pneu_aft_remaining_variables.csv\")['variable'][i])\n",
    "\n",
    "element_counts = {}\n",
    "\n",
    "for element in remaining_variables_all:\n",
    "    if element in element_counts:\n",
    "        element_counts[element] += 1\n",
    "    else:\n",
    "        element_counts[element] = 1\n",
    "\n",
    "print(element_counts)"
   ]
  },
  {
   "cell_type": "markdown",
   "metadata": {},
   "source": [
    "### C-index"
   ]
  },
  {
   "cell_type": "code",
   "execution_count": null,
   "metadata": {},
   "outputs": [],
   "source": [
    "print(round(np.mean(linear_results['train_C_index']),4))\n",
    "print(round(np.std(linear_results['train_C_index']),4))\n",
    "print(round(np.mean(linear_results['test_C_index']),4))\n",
    "print(round(np.std(linear_results['test_C_index']),4))"
   ]
  },
  {
   "cell_type": "code",
   "execution_count": null,
   "metadata": {},
   "outputs": [],
   "source": [
    "print(round(np.mean(clinical_results['train_C_index']),4))\n",
    "print(round(np.std(clinical_results['train_C_index']),4))\n",
    "print(round(np.mean(clinical_results['test_C_index']),4))\n",
    "print(round(np.std(clinical_results['test_C_index']),4))"
   ]
  },
  {
   "cell_type": "code",
   "execution_count": null,
   "metadata": {},
   "outputs": [],
   "source": [
    "print(round(np.mean(ensemble_cox_results['train_C_index']),4))\n",
    "print(round(np.std(ensemble_cox_results['train_C_index']),4))\n",
    "print(round(np.mean(ensemble_cox_results['test_C_index']),4))\n",
    "print(round(np.std(ensemble_cox_results['test_C_index']),4))"
   ]
  },
  {
   "cell_type": "code",
   "execution_count": null,
   "metadata": {},
   "outputs": [],
   "source": [
    "print(round(np.mean(ensemble_aft_results['train_C_index']),4))\n",
    "print(round(np.std(ensemble_aft_results['train_C_index']),4))\n",
    "print(round(np.mean(ensemble_aft_results['test_C_index']),4))\n",
    "print(round(np.std(ensemble_aft_results['test_C_index']),4))"
   ]
  }
 ],
 "metadata": {
  "kernelspec": {
   "display_name": "Python 3",
   "language": "python",
   "name": "python3"
  },
  "language_info": {
   "codemirror_mode": {
    "name": "ipython",
    "version": 3
   },
   "file_extension": ".py",
   "mimetype": "text/x-python",
   "name": "python",
   "nbconvert_exporter": "python",
   "pygments_lexer": "ipython3",
   "version": "3.9.0"
  }
 },
 "nbformat": 4,
 "nbformat_minor": 2
}
